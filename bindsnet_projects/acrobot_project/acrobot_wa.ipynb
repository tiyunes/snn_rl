{
 "cells": [
  {
   "cell_type": "code",
   "execution_count": 1,
   "id": "c45c4aa3",
   "metadata": {},
   "outputs": [],
   "source": [
    "import sys"
   ]
  },
  {
   "cell_type": "code",
   "execution_count": 2,
   "id": "55231608",
   "metadata": {},
   "outputs": [],
   "source": [
    "import torch\n",
    "import torch.nn as nn\n",
    "import torch.nn.functional as F\n",
    "import torch.optim as optim\n",
    "from torch.distributions import Categorical\n",
    "import numpy as np\n",
    "import matplotlib.pyplot as plt\n",
    "from bindsnet.environment import GymEnvironment\n",
    "from bindsnet.pipeline import EnvironmentPipeline\n",
    "from bindsnet.learning.reward import AbstractReward, MovingAvgRPE\n",
    "from bindsnet.network.monitors import Monitor\n",
    "from bindsnet.analysis.plotting import plot_weights\n",
    "from agents import AcrobotAgent"
   ]
  },
  {
   "cell_type": "code",
   "execution_count": 3,
   "id": "86c9aa56",
   "metadata": {},
   "outputs": [],
   "source": [
    "def _compute_spikes(\n",
    "    datum: torch.Tensor,\n",
    "    time: int,\n",
    "    low: float,\n",
    "    high: float,\n",
    "    device: str\n",
    ") -> torch.Tensor:\n",
    "    times = torch.linspace(low, high, time, device=device)\n",
    "    spike_times = torch.argmin(torch.abs(datum - times))\n",
    "    spikes = (np.array(spike_times.to('cpu')).astype(int) ==\n",
    "              range(0, time)).astype(int)\n",
    "    reverse_spikes = np.flip(spikes).copy()\n",
    "    return torch.stack([\n",
    "        torch.from_numpy(spikes).to(device),\n",
    "        torch.from_numpy(reverse_spikes).to(device)\n",
    "    ]).byte()"
   ]
  },
  {
   "cell_type": "code",
   "execution_count": 4,
   "id": "b2286089",
   "metadata": {},
   "outputs": [],
   "source": [
    "def acrobot_observation_encoder(\n",
    "        datum: torch.Tensor,\n",
    "        time: int,\n",
    "        **kwargs,\n",
    ") -> dict:\n",
    "    \"\"\"\n",
    "\n",
    "    Parameters\n",
    "    ----------\n",
    "    datum : torch.Tensor\n",
    "        Observation tensor.\n",
    "    time : int\n",
    "        Length of spike train per observation.\n",
    "\n",
    "    Keyword Arguments\n",
    "    -----------------\n",
    "\n",
    "    Returns\n",
    "    -------\n",
    "    dict\n",
    "        The tensor of encoded data per input population.\n",
    "\n",
    "    \"\"\"\n",
    "    device = \"cpu\" if datum.get_device() < 0 else 'cuda'\n",
    "    datum = datum.squeeze()\n",
    "    if (len(datum)==6):\n",
    "        cos1, sin1, cos2, sin2, vel1, vel2 = datum\n",
    "    else:\n",
    "        theta1, theta2, vel1, vel2 = datum\n",
    "        cos1 = np.cos(theta1)\n",
    "        sin1 = np.sin(theta1)\n",
    "        cos2 = np.cos(theta2)\n",
    "        sin2 = np.sin(theta2)\n",
    "    \n",
    "    min_cos1, max_cos1 = -1.0, 1.0\n",
    "    min_sin1, max_sin1 = -1.0, 1.0\n",
    "    min_cos2, max_cos2 = -1.0, 1.0\n",
    "    min_sin2, max_sin2 = -1.0, 1.0\n",
    "    min_vel1, max_vel1 = -12.57, 12.57\n",
    "    min_vel2, max_vel2 = -28.27, 28.27\n",
    "\n",
    "    cos1_spikes = _compute_spikes(cos1, time, min_cos1, max_cos1, device)\n",
    "    sin1_spikes = _compute_spikes(sin1, time, min_sin1, max_sin1, device)\n",
    "    cos2_spikes = _compute_spikes(cos2, time, min_cos2, max_cos2, device)\n",
    "    sin2_spikes = _compute_spikes(sin2, time, min_sin2, max_sin2, device)\n",
    "    vel1_spikes = _compute_spikes(vel1, time, min_vel1, max_vel1, device)\n",
    "    vel2_spikes = _compute_spikes(vel2, time, min_vel2, max_vel2, device)\n",
    "\n",
    "    spikes = torch.stack([cos1_spikes, sin1_spikes, cos2_spikes, sin2_spikes, vel1_spikes, vel2_spikes]).T\n",
    "\n",
    "    return {\"S2\": spikes.unsqueeze(1).byte().to(device)}"
   ]
  },
  {
   "cell_type": "code",
   "execution_count": 5,
   "id": "20019c7e",
   "metadata": {},
   "outputs": [],
   "source": [
    "def select_action(pipeline, output, **kwargs) -> int:\n",
    "    \"\"\"\n",
    "    Choose the proper action based on observation.\n",
    "\n",
    "    Keyword Arguments\n",
    "    -----------------\n",
    "\n",
    "    Returns\n",
    "    -------\n",
    "    action : int\n",
    "        The action to be taken.\n",
    "\n",
    "    \"\"\"\n",
    "    if pipeline.network.monitors[output].recording['s'] != []:\n",
    "        spikes = (pipeline.network.monitors[output].get(\"s\").float())\n",
    "        spikes = spikes.squeeze().squeeze().nonzero()\n",
    "        \n",
    "#         print(\"spikes: \", spikes)\n",
    "#         print(\"spikes: \", spikes.shape)\n",
    "\n",
    "        if spikes.shape[0] == 0:\n",
    "            return pipeline.env.action_space.sample()\n",
    "        else:\n",
    "            return spikes[0, 1]\n",
    "    return pipeline.env.action_space.sample()"
   ]
  },
  {
   "cell_type": "code",
   "execution_count": 6,
   "id": "ee35fbc1",
   "metadata": {},
   "outputs": [],
   "source": [
    "# Define the environment\n",
    "environment = GymEnvironment('Acrobot-v1', render_mode='human')"
   ]
  },
  {
   "cell_type": "code",
   "execution_count": 7,
   "id": "32681c09",
   "metadata": {},
   "outputs": [],
   "source": [
    "# Define observer agent\n",
    "observer = AcrobotAgent(environment, dt=1.0, method='first_spike')"
   ]
  },
  {
   "cell_type": "code",
   "execution_count": 8,
   "id": "76170311",
   "metadata": {},
   "outputs": [],
   "source": [
    "observer.build_network()"
   ]
  },
  {
   "cell_type": "code",
   "execution_count": 9,
   "id": "01f21ff1",
   "metadata": {},
   "outputs": [],
   "source": [
    "pipeline = EnvironmentPipeline(\n",
    "    network=observer.network,\n",
    "    environment=environment,\n",
    "    action_function=select_action,\n",
    "    encoding=acrobot_observation_encoder,\n",
    "    device=observer.device,\n",
    "    output=\"PM\",\n",
    "    time=25,\n",
    "    num_episodes=100,\n",
    ")"
   ]
  },
  {
   "cell_type": "code",
   "execution_count": 10,
   "id": "11396502",
   "metadata": {},
   "outputs": [
    {
     "name": "stdout",
     "output_type": "stream",
     "text": [
      "Parameter containing:\n",
      "tensor([[0.5023, 0.4947, 0.4933],\n",
      "        [0.5095, 0.4982, 0.4907],\n",
      "        [0.5016, 0.4956, 0.4828],\n",
      "        [0.4878, 0.4985, 0.4877],\n",
      "        [0.4907, 0.4761, 0.5004],\n",
      "        [0.5024, 0.4913, 0.5075],\n",
      "        [0.5055, 0.5023, 0.5106],\n",
      "        [0.5014, 0.5099, 0.5012],\n",
      "        [0.5088, 0.4964, 0.4979],\n",
      "        [0.5057, 0.4922, 0.4975],\n",
      "        [0.4944, 0.4949, 0.4972],\n",
      "        [0.4889, 0.4985, 0.4981]])\n"
     ]
    }
   ],
   "source": [
    "w1 = pipeline.network.connections[(\"S2\", \"PM\")].w\n",
    "# plot_weights(w1)\n",
    "print(w1)"
   ]
  },
  {
   "cell_type": "code",
   "execution_count": 11,
   "id": "79b93b35",
   "metadata": {
    "scrolled": true
   },
   "outputs": [
    {
     "name": "stdout",
     "output_type": "stream",
     "text": [
      "Episode: 0 - accumulated reward: -250.00\n",
      "Episode: 1 - accumulated reward: -250.00\n",
      "Episode: 2 - accumulated reward: -250.00\n",
      "Episode: 3 - accumulated reward: -250.00\n",
      "Episode: 4 - accumulated reward: -250.00\n",
      "Episode: 5 - accumulated reward: -250.00\n",
      "Episode: 6 - accumulated reward: -225.00\n",
      "Episode: 7 - accumulated reward: -250.00\n",
      "Episode: 8 - accumulated reward: -250.00\n",
      "Episode: 9 - accumulated reward: -250.00\n",
      "Episode: 10 - accumulated reward: -250.00\n",
      "Episode: 11 - accumulated reward: -113.00\n",
      "Episode: 12 - accumulated reward: -250.00\n",
      "Episode: 13 - accumulated reward: -250.00\n",
      "Episode: 14 - accumulated reward: -99.00\n",
      "Episode: 15 - accumulated reward: -250.00\n",
      "Episode: 16 - accumulated reward: -250.00\n",
      "Episode: 17 - accumulated reward: -250.00\n",
      "Episode: 18 - accumulated reward: -250.00\n",
      "Episode: 19 - accumulated reward: -250.00\n",
      "Episode: 20 - accumulated reward: -250.00\n",
      "Episode: 21 - accumulated reward: -250.00\n",
      "Episode: 22 - accumulated reward: -250.00\n",
      "Episode: 23 - accumulated reward: -250.00\n",
      "Episode: 24 - accumulated reward: -250.00\n",
      "Episode: 25 - accumulated reward: -250.00\n",
      "Episode: 26 - accumulated reward: -206.00\n",
      "Episode: 27 - accumulated reward: -250.00\n",
      "Episode: 28 - accumulated reward: -249.00\n",
      "Episode: 29 - accumulated reward: -250.00\n",
      "Episode: 30 - accumulated reward: -200.00\n",
      "Episode: 31 - accumulated reward: -250.00\n",
      "Episode: 32 - accumulated reward: -250.00\n",
      "Episode: 33 - accumulated reward: -250.00\n",
      "Episode: 34 - accumulated reward: -250.00\n",
      "Episode: 35 - accumulated reward: -250.00\n",
      "Episode: 36 - accumulated reward: -250.00\n",
      "Episode: 37 - accumulated reward: -84.00\n",
      "Episode: 38 - accumulated reward: -250.00\n",
      "Episode: 39 - accumulated reward: -250.00\n",
      "Episode: 40 - accumulated reward: -243.00\n",
      "Episode: 41 - accumulated reward: -250.00\n",
      "Episode: 42 - accumulated reward: -250.00\n",
      "Episode: 43 - accumulated reward: -250.00\n",
      "Episode: 44 - accumulated reward: -250.00\n",
      "Episode: 45 - accumulated reward: -174.00\n",
      "Episode: 46 - accumulated reward: -219.00\n",
      "Episode: 47 - accumulated reward: -250.00\n",
      "Episode: 48 - accumulated reward: -250.00\n",
      "Episode: 49 - accumulated reward: -250.00\n",
      "Episode: 50 - accumulated reward: -250.00\n",
      "Episode: 51 - accumulated reward: -250.00\n",
      "Episode: 52 - accumulated reward: -199.00\n",
      "Episode: 53 - accumulated reward: -215.00\n",
      "Episode: 54 - accumulated reward: -250.00\n",
      "Episode: 55 - accumulated reward: -250.00\n",
      "Episode: 56 - accumulated reward: -250.00\n",
      "Episode: 57 - accumulated reward: -209.00\n",
      "Episode: 58 - accumulated reward: -227.00\n",
      "Episode: 59 - accumulated reward: -250.00\n",
      "Episode: 60 - accumulated reward: -249.00\n",
      "Episode: 61 - accumulated reward: -250.00\n",
      "Episode: 62 - accumulated reward: -250.00\n",
      "Episode: 63 - accumulated reward: -250.00\n",
      "Episode: 64 - accumulated reward: -250.00\n",
      "Episode: 65 - accumulated reward: -250.00\n",
      "Episode: 66 - accumulated reward: -250.00\n",
      "Episode: 67 - accumulated reward: -179.00\n",
      "Episode: 68 - accumulated reward: -250.00\n",
      "Episode: 69 - accumulated reward: -250.00\n",
      "Episode: 70 - accumulated reward: -250.00\n",
      "Episode: 71 - accumulated reward: -250.00\n",
      "Episode: 72 - accumulated reward: -250.00\n",
      "Episode: 73 - accumulated reward: -250.00\n",
      "Episode: 74 - accumulated reward: -250.00\n",
      "Episode: 75 - accumulated reward: -250.00\n",
      "Episode: 76 - accumulated reward: -250.00\n",
      "Episode: 77 - accumulated reward: -250.00\n",
      "Episode: 78 - accumulated reward: -250.00\n",
      "Episode: 79 - accumulated reward: -250.00\n",
      "Episode: 80 - accumulated reward: -250.00\n",
      "Episode: 81 - accumulated reward: -250.00\n",
      "Episode: 82 - accumulated reward: -191.00\n",
      "Episode: 83 - accumulated reward: -189.00\n",
      "Episode: 84 - accumulated reward: -250.00\n",
      "Episode: 85 - accumulated reward: -250.00\n",
      "Episode: 86 - accumulated reward: -250.00\n",
      "Episode: 87 - accumulated reward: -250.00\n",
      "Episode: 88 - accumulated reward: -152.00\n",
      "Episode: 89 - accumulated reward: -250.00\n",
      "Episode: 90 - accumulated reward: -250.00\n",
      "Episode: 91 - accumulated reward: -250.00\n",
      "Episode: 92 - accumulated reward: -206.00\n",
      "Episode: 93 - accumulated reward: -250.00\n",
      "Episode: 94 - accumulated reward: -250.00\n",
      "Episode: 95 - accumulated reward: -250.00\n",
      "Episode: 96 - accumulated reward: -250.00\n",
      "Episode: 97 - accumulated reward: -250.00\n",
      "Episode: 98 - accumulated reward: -250.00\n",
      "Episode: 99 - accumulated reward: -167.00\n",
      "Training Finished\n"
     ]
    }
   ],
   "source": [
    "pipeline.train()\n",
    "print(\"Training Finished\")"
   ]
  },
  {
   "cell_type": "code",
   "execution_count": 12,
   "id": "80609592",
   "metadata": {},
   "outputs": [
    {
     "data": {
      "text/plain": [
       "Text(0.5, 0, 'episode')"
      ]
     },
     "execution_count": 12,
     "metadata": {},
     "output_type": "execute_result"
    },
    {
     "data": {
      "image/png": "[encoded data removed]",
      "text/plain": [
       "<Figure size 640x480 with 1 Axes>"
      ]
     },
     "metadata": {},
     "output_type": "display_data"
    }
   ],
   "source": [
    "plt.plot(pipeline.reward_list)\n",
    "plt.title('rewards')\n",
    "plt.xlabel('episode')"
   ]
  },
  {
   "cell_type": "code",
   "execution_count": 13,
   "id": "cc79136b",
   "metadata": {},
   "outputs": [
    {
     "data": {
      "text/plain": [
       "-237.45"
      ]
     },
     "execution_count": 13,
     "metadata": {},
     "output_type": "execute_result"
    }
   ],
   "source": [
    "np.mean(pipeline.reward_list)"
   ]
  },
  {
   "cell_type": "code",
   "execution_count": 14,
   "id": "642477c7",
   "metadata": {},
   "outputs": [
    {
     "name": "stdout",
     "output_type": "stream",
     "text": [
      "Parameter containing:\n",
      "tensor([[ 0.2538,  0.2609,  0.2412],\n",
      "        [ 0.1891,  0.2355,  0.2303],\n",
      "        [ 0.3110,  0.3033,  0.2987],\n",
      "        [ 0.2241,  0.1984,  0.2136],\n",
      "        [-0.0392, -0.0325, -0.0200],\n",
      "        [-0.0369, -0.0269, -0.0073],\n",
      "        [ 0.2287,  0.2147,  0.2167],\n",
      "        [ 0.1263,  0.0794,  0.0780],\n",
      "        [ 0.2918,  0.2610,  0.2731],\n",
      "        [ 0.3768,  0.3544,  0.3450],\n",
      "        [-0.0205,  0.0067, -0.0177],\n",
      "        [-0.0453, -0.0108, -0.0222]])\n"
     ]
    }
   ],
   "source": [
    "w1 = pipeline.network.connections[(\"S2\", \"PM\")].w\n",
    "# plot_weights(w1)\n",
    "print(w1)"
   ]
  },
  {
   "cell_type": "code",
   "execution_count": null,
   "id": "5193a596",
   "metadata": {},
   "outputs": [],
   "source": []
  },
  {
   "cell_type": "code",
   "execution_count": null,
   "id": "8603c395",
   "metadata": {},
   "outputs": [],
   "source": []
  },
  {
   "cell_type": "code",
   "execution_count": null,
   "id": "3563a6bb",
   "metadata": {},
   "outputs": [],
   "source": []
  }
 ],
 "metadata": {
  "kernelspec": {
   "display_name": "rl_torch",
   "language": "python",
   "name": "rl_torch"
  },
  "language_info": {
   "codemirror_mode": {
    "name": "ipython",
    "version": 3
   },
   "file_extension": ".py",
   "mimetype": "text/x-python",
   "name": "python",
   "nbconvert_exporter": "python",
   "pygments_lexer": "ipython3",
   "version": "3.11.4"
  }
 },
 "nbformat": 4,
 "nbformat_minor": 5
}
