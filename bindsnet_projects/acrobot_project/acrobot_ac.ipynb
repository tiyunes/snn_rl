{
 "cells": [
  {
   "cell_type": "code",
   "execution_count": 1,
   "id": "2e6d4476-0b50-422d-b74e-a416a6ddda8e",
   "metadata": {
    "scrolled": true
   },
   "outputs": [],
   "source": [
    "import sys"
   ]
  },
  {
   "cell_type": "code",
   "execution_count": 2,
   "id": "f076d39e-569a-4ffb-a4c5-70cd64a4d2db",
   "metadata": {},
   "outputs": [],
   "source": [
    "import torch\n",
    "import torch.nn as nn\n",
    "import torch.nn.functional as F\n",
    "import torch.optim as optim\n",
    "from torch.distributions import Categorical\n",
    "import numpy as np\n",
    "import matplotlib.pyplot as plt\n",
    "from bindsnet.environment import GymEnvironment\n",
    "from bindsnet.learning.reward import AbstractReward, MovingAvgRPE\n",
    "from bindsnet.network.monitors import Monitor\n",
    "from bindsnet.analysis.plotting import plot_weights\n",
    "from agents import AcrobotObserverAgent, ExpertAcrobotAgent\n",
    "from pipelines import AcrobotPipeline"
   ]
  },
  {
   "cell_type": "code",
   "execution_count": 3,
   "id": "83a6cb9b-683a-4ebb-8677-63b864a04ea2",
   "metadata": {},
   "outputs": [],
   "source": [
    "def _compute_spikes(\n",
    "    datum: torch.Tensor,\n",
    "    time: int,\n",
    "    low: float,\n",
    "    high: float,\n",
    "    device: str\n",
    ") -> torch.Tensor:\n",
    "    times = torch.linspace(low, high, time, device=device)\n",
    "    spike_times = torch.argmin(torch.abs(datum - times))\n",
    "    spikes = (np.array(spike_times.to('cpu')).astype(int) ==\n",
    "              range(0, time)).astype(int)\n",
    "    reverse_spikes = np.flip(spikes).copy()\n",
    "    return torch.stack([\n",
    "        torch.from_numpy(spikes).to(device),\n",
    "        torch.from_numpy(reverse_spikes).to(device)\n",
    "    ]).byte()"
   ]
  },
  {
   "cell_type": "code",
   "execution_count": 4,
   "id": "908753e7-a537-49aa-9658-195522728f1f",
   "metadata": {},
   "outputs": [],
   "source": [
    "def acrobot_observation_encoder(\n",
    "        datum: torch.Tensor,\n",
    "        time: int,\n",
    "        **kwargs,\n",
    ") -> dict:\n",
    "    \"\"\"\n",
    "\n",
    "    Parameters\n",
    "    ----------\n",
    "    datum : torch.Tensor\n",
    "        Observation tensor.\n",
    "    time : int\n",
    "        Length of spike train per observation.\n",
    "\n",
    "    Keyword Arguments\n",
    "    -----------------\n",
    "\n",
    "    Returns\n",
    "    -------\n",
    "    dict\n",
    "        The tensor of encoded data per input population.\n",
    "\n",
    "    \"\"\"\n",
    "    device = \"cpu\" if datum.get_device() < 0 else 'cuda'\n",
    "    datum = datum.squeeze()\n",
    "    if (len(datum)==6):\n",
    "        cos1, sin1, cos2, sin2, vel1, vel2 = datum\n",
    "    else:\n",
    "        theta1, theta2, vel1, vel2 = datum\n",
    "        cos1 = np.cos(theta1)\n",
    "        sin1 = np.sin(theta1)\n",
    "        cos2 = np.cos(theta2)\n",
    "        sin2 = np.sin(theta2)\n",
    "    \n",
    "    min_cos1, max_cos1 = -1.0, 1.0\n",
    "    min_sin1, max_sin1 = -1.0, 1.0\n",
    "    min_cos2, max_cos2 = -1.0, 1.0\n",
    "    min_sin2, max_sin2 = -1.0, 1.0\n",
    "    min_vel1, max_vel1 = -12.57, 12.57\n",
    "    min_vel2, max_vel2 = -28.27, 28.27\n",
    "\n",
    "    cos1_spikes = _compute_spikes(cos1, time, min_cos1, max_cos1, device)\n",
    "    sin1_spikes = _compute_spikes(sin1, time, min_sin1, max_sin1, device)\n",
    "    cos2_spikes = _compute_spikes(cos2, time, min_cos2, max_cos2, device)\n",
    "    sin2_spikes = _compute_spikes(sin2, time, min_sin2, max_sin2, device)\n",
    "    vel1_spikes = _compute_spikes(vel1, time, min_vel1, max_vel1, device)\n",
    "    vel2_spikes = _compute_spikes(vel2, time, min_vel2, max_vel2, device)\n",
    "\n",
    "    spikes = torch.stack([cos1_spikes, sin1_spikes, cos2_spikes, sin2_spikes, vel1_spikes, vel2_spikes]).T\n",
    "\n",
    "    return {\"S2\": spikes.unsqueeze(1).byte().to(device)}\n",
    "#     return {\"S2\": torch.reshape(spikes.unsqueeze(1).byte().to(device), (time, 1, 6, 2))}"
   ]
  },
  {
   "cell_type": "code",
   "execution_count": 5,
   "id": "5e7a533f-136a-4043-9b3a-38547f92a9cd",
   "metadata": {},
   "outputs": [],
   "source": [
    "def _noise_policy(episode, num_episodes, **kwargs):\n",
    "    return 0"
   ]
  },
  {
   "cell_type": "code",
   "execution_count": 6,
   "id": "bbd05ada-3f3f-41de-b1ac-50ddbb8c6d3a",
   "metadata": {},
   "outputs": [],
   "source": [
    "# Define the environment\n",
    "environment = GymEnvironment('Acrobot-v1', render_mode='human')"
   ]
  },
  {
   "cell_type": "code",
   "execution_count": 7,
   "id": "9121d718-d143-4b93-b2c0-048e02769fc4",
   "metadata": {},
   "outputs": [],
   "source": [
    "# Define observer agent\n",
    "observer = AcrobotObserverAgent(environment, dt=1.0, method='first_spike')"
   ]
  },
  {
   "cell_type": "code",
   "execution_count": 8,
   "id": "9df5b626",
   "metadata": {},
   "outputs": [],
   "source": [
    "device = torch.device(\"cuda:0\" if torch.cuda.is_available() else \"cpu\")"
   ]
  },
  {
   "cell_type": "code",
   "execution_count": 9,
   "id": "60c6d8ac",
   "metadata": {},
   "outputs": [],
   "source": [
    "class Policy(nn.Module):\n",
    "    def __init__(self, s_size=6, h_size=32, a_size=3):\n",
    "        super(Policy, self).__init__()\n",
    "        self.fc1 = nn.Linear(s_size, h_size)\n",
    "        self.fc2 = nn.Linear(h_size, a_size)\n",
    "\n",
    "    def forward(self, x):\n",
    "        x = F.relu(self.fc1(x))\n",
    "        x = self.fc2(x)\n",
    "        # print(\"x: \", x)\n",
    "        # print(\"x shape: \", x.shape)\n",
    "        return F.softmax(x, dim=0)\n",
    "    \n",
    "    def act(self, state):\n",
    "        if isinstance(state, tuple):\n",
    "            state = torch.from_numpy(state[0]).float().unsqueeze(0).to(device)\n",
    "        else:\n",
    "            state = torch.from_numpy(state).float().unsqueeze(0).to(device)\n",
    "        # print(\"act state: \", state)\n",
    "        probs = self.forward(state).cpu()\n",
    "        m = Categorical(probs)\n",
    "        action = m.sample()\n",
    "        return action.item() - 1, m.log_prob(action)\n",
    "    \n",
    "    def save(self, filename):\n",
    "        torch.save(self.state_dict(), '%s.pth' % (filename))"
   ]
  },
  {
   "cell_type": "code",
   "execution_count": 10,
   "id": "79a149d6",
   "metadata": {},
   "outputs": [],
   "source": [
    "def expert_forward(state, weight='./acrobot_model.pth', **kwargs):\n",
    "    model = Policy()\n",
    "    if isinstance(weight, str):\n",
    "        weight = torch.load(weight)\n",
    "    model.load_state_dict(weight)\n",
    "    \n",
    "    if (state.shape[0] == 4):\n",
    "        cos1 = np.cos(state[0])\n",
    "        sin1 = np.sin(state[0])\n",
    "        cos2 = np.cos(state[1])\n",
    "        sin2 = np.sin(state[1])\n",
    "        vel1 = state[2]\n",
    "        vel2 = state[3]\n",
    "    else:\n",
    "        cos1, sin1, cos2, sin2, vel1, vel2 = state\n",
    "    \n",
    "    obs = torch.tensor([cos1, sin1, cos2, sin2, vel1, vel2])\n",
    "\n",
    "    q = model(obs)\n",
    "    \n",
    "    return torch.argmax(q).item() - 1"
   ]
  },
  {
   "cell_type": "code",
   "execution_count": 11,
   "id": "966a90af-5557-4a93-b95a-2ecb691bf1a3",
   "metadata": {},
   "outputs": [],
   "source": [
    "# Define expert agent acting on pretrained weights (weight is multiplied by\n",
    "# observation vector)\n",
    "expert = ExpertAcrobotAgent(environment, method='user-defined',\n",
    "                     noise_policy=_noise_policy)"
   ]
  },
  {
   "cell_type": "code",
   "execution_count": 12,
   "id": "6952cbca-0aaf-4ffb-adbb-21f75aa2af2a",
   "metadata": {},
   "outputs": [],
   "source": [
    "# Define the pipeline by which the agents interact\n",
    "pipeline = AcrobotPipeline(\n",
    "    observer_agent=observer,\n",
    "    expert_agent=expert,\n",
    "    encoding=acrobot_observation_encoder,\n",
    "    time=25,\n",
    "    num_episodes=200,\n",
    "    representation_time=12,\n",
    "    log_writer = True,\n",
    "    render_interval=5,\n",
    "    keep_state = True,\n",
    ")"
   ]
  },
  {
   "cell_type": "code",
   "execution_count": 13,
   "id": "6ffa61be-58c2-4e87-bb9c-0b88fb72db02",
   "metadata": {
    "scrolled": true
   },
   "outputs": [
    {
     "name": "stdout",
     "output_type": "stream",
     "text": [
      "Episode: 0 - accumulated reward: -81.00\n",
      "Episode: 1 - accumulated reward: -79.00\n",
      "Episode: 2 - accumulated reward: -78.00\n",
      "Episode: 3 - accumulated reward: -85.00\n",
      "Episode: 4 - accumulated reward: -86.00\n",
      "Episode: 5 - accumulated reward: -139.00\n",
      "Episode: 6 - accumulated reward: -89.00\n",
      "Episode: 7 - accumulated reward: -73.00\n",
      "Episode: 8 - accumulated reward: -92.00\n",
      "Episode: 9 - accumulated reward: -76.00\n",
      "Episode: 10 - accumulated reward: -77.00\n",
      "Episode: 11 - accumulated reward: -82.00\n",
      "Episode: 12 - accumulated reward: -87.00\n",
      "Episode: 13 - accumulated reward: -81.00\n",
      "Episode: 14 - accumulated reward: -78.00\n",
      "Test - accumulated reward: -267.0\n",
      "Test - accumulated reward: -241.0\n",
      "Test - accumulated reward: -188.0\n",
      "Test - accumulated reward: -468.0\n",
      "Test - accumulated reward: -290.0\n",
      "Test - accumulated reward: -281.0\n",
      "Test - accumulated reward: -364.0\n",
      "Episode: 15 - accumulated reward: -84.00\n",
      "Episode: 16 - accumulated reward: -81.00\n",
      "Episode: 17 - accumulated reward: -94.00\n",
      "Episode: 18 - accumulated reward: -80.00\n",
      "Episode: 19 - accumulated reward: -271.00\n",
      "Episode: 20 - accumulated reward: -73.00\n",
      "Episode: 21 - accumulated reward: -85.00\n",
      "Episode: 22 - accumulated reward: -78.00\n",
      "Episode: 23 - accumulated reward: -79.00\n",
      "Episode: 24 - accumulated reward: -121.00\n",
      "Episode: 25 - accumulated reward: -76.00\n",
      "Episode: 26 - accumulated reward: -83.00\n",
      "Episode: 27 - accumulated reward: -78.00\n",
      "Episode: 28 - accumulated reward: -88.00\n",
      "Episode: 29 - accumulated reward: -205.00\n",
      "Test - accumulated reward: -423.0\n",
      "Test - accumulated reward: -258.0\n",
      "Test - accumulated reward: -500.0\n",
      "Test - accumulated reward: -390.0\n",
      "Test - accumulated reward: -500.0\n",
      "Test - accumulated reward: -269.0\n",
      "Test - accumulated reward: -334.0\n",
      "Episode: 30 - accumulated reward: -65.00\n",
      "Episode: 31 - accumulated reward: -86.00\n",
      "Episode: 32 - accumulated reward: -89.00\n",
      "Episode: 33 - accumulated reward: -78.00\n",
      "Episode: 34 - accumulated reward: -77.00\n",
      "Episode: 35 - accumulated reward: -78.00\n",
      "Episode: 36 - accumulated reward: -71.00\n",
      "Episode: 37 - accumulated reward: -98.00\n",
      "Episode: 38 - accumulated reward: -78.00\n",
      "Episode: 39 - accumulated reward: -93.00\n",
      "Episode: 40 - accumulated reward: -92.00\n",
      "Episode: 41 - accumulated reward: -79.00\n",
      "Episode: 42 - accumulated reward: -73.00\n",
      "Episode: 43 - accumulated reward: -77.00\n",
      "Episode: 44 - accumulated reward: -78.00\n",
      "Test - accumulated reward: -347.0\n",
      "Test - accumulated reward: -226.0\n",
      "Test - accumulated reward: -212.0\n",
      "Test - accumulated reward: -284.0\n",
      "Test - accumulated reward: -491.0\n",
      "Test - accumulated reward: -322.0\n",
      "Test - accumulated reward: -403.0\n",
      "Episode: 45 - accumulated reward: -83.00\n",
      "Episode: 46 - accumulated reward: -72.00\n",
      "Episode: 47 - accumulated reward: -77.00\n",
      "Episode: 48 - accumulated reward: -80.00\n",
      "Episode: 49 - accumulated reward: -88.00\n",
      "Episode: 50 - accumulated reward: -84.00\n",
      "Episode: 51 - accumulated reward: -79.00\n",
      "Episode: 52 - accumulated reward: -78.00\n",
      "Episode: 53 - accumulated reward: -108.00\n",
      "Episode: 54 - accumulated reward: -96.00\n",
      "Episode: 55 - accumulated reward: -109.00\n",
      "Episode: 56 - accumulated reward: -82.00\n",
      "Episode: 57 - accumulated reward: -97.00\n",
      "Episode: 58 - accumulated reward: -101.00\n",
      "Episode: 59 - accumulated reward: -79.00\n",
      "Test - accumulated reward: -404.0\n",
      "Test - accumulated reward: -500.0\n",
      "Test - accumulated reward: -404.0\n",
      "Test - accumulated reward: -500.0\n",
      "Test - accumulated reward: -500.0\n",
      "Test - accumulated reward: -196.0\n",
      "Test - accumulated reward: -376.0\n",
      "Episode: 60 - accumulated reward: -78.00\n",
      "Episode: 61 - accumulated reward: -78.00\n",
      "Episode: 62 - accumulated reward: -77.00\n",
      "Episode: 63 - accumulated reward: -80.00\n",
      "Episode: 64 - accumulated reward: -79.00\n",
      "Episode: 65 - accumulated reward: -90.00\n",
      "Episode: 66 - accumulated reward: -80.00\n",
      "Episode: 67 - accumulated reward: -90.00\n",
      "Episode: 68 - accumulated reward: -86.00\n",
      "Episode: 69 - accumulated reward: -77.00\n",
      "Episode: 70 - accumulated reward: -81.00\n",
      "Episode: 71 - accumulated reward: -79.00\n",
      "Episode: 72 - accumulated reward: -93.00\n",
      "Episode: 73 - accumulated reward: -78.00\n",
      "Episode: 74 - accumulated reward: -84.00\n",
      "Test - accumulated reward: -216.0\n",
      "Test - accumulated reward: -382.0\n",
      "Test - accumulated reward: -273.0\n",
      "Test - accumulated reward: -217.0\n",
      "Test - accumulated reward: -442.0\n",
      "Test - accumulated reward: -360.0\n",
      "Test - accumulated reward: -340.0\n",
      "Episode: 75 - accumulated reward: -78.00\n",
      "Episode: 76 - accumulated reward: -140.00\n",
      "Episode: 77 - accumulated reward: -74.00\n",
      "Episode: 78 - accumulated reward: -78.00\n",
      "Episode: 79 - accumulated reward: -99.00\n",
      "Episode: 80 - accumulated reward: -93.00\n",
      "Episode: 81 - accumulated reward: -81.00\n",
      "Episode: 82 - accumulated reward: -78.00\n",
      "Episode: 83 - accumulated reward: -87.00\n",
      "Episode: 84 - accumulated reward: -79.00\n",
      "Episode: 85 - accumulated reward: -85.00\n",
      "Episode: 86 - accumulated reward: -145.00\n",
      "Episode: 87 - accumulated reward: -77.00\n",
      "Episode: 88 - accumulated reward: -95.00\n",
      "Episode: 89 - accumulated reward: -86.00\n",
      "Test - accumulated reward: -210.0\n",
      "Test - accumulated reward: -342.0\n",
      "Test - accumulated reward: -230.0\n",
      "Test - accumulated reward: -255.0\n",
      "Test - accumulated reward: -332.0\n",
      "Test - accumulated reward: -321.0\n",
      "Test - accumulated reward: -500.0\n",
      "Episode: 90 - accumulated reward: -77.00\n",
      "Episode: 91 - accumulated reward: -77.00\n",
      "Episode: 92 - accumulated reward: -77.00\n",
      "Episode: 93 - accumulated reward: -106.00\n",
      "Episode: 94 - accumulated reward: -81.00\n",
      "Episode: 95 - accumulated reward: -79.00\n",
      "Episode: 96 - accumulated reward: -78.00\n",
      "Episode: 97 - accumulated reward: -79.00\n",
      "Episode: 98 - accumulated reward: -79.00\n",
      "Episode: 99 - accumulated reward: -95.00\n",
      "Episode: 100 - accumulated reward: -97.00\n",
      "Episode: 101 - accumulated reward: -81.00\n",
      "Episode: 102 - accumulated reward: -97.00\n",
      "Episode: 103 - accumulated reward: -78.00\n",
      "Episode: 104 - accumulated reward: -78.00\n",
      "Test - accumulated reward: -358.0\n",
      "Test - accumulated reward: -277.0\n",
      "Test - accumulated reward: -249.0\n",
      "Test - accumulated reward: -239.0\n",
      "Test - accumulated reward: -192.0\n",
      "Test - accumulated reward: -244.0\n",
      "Test - accumulated reward: -302.0\n",
      "Episode: 105 - accumulated reward: -78.00\n",
      "Episode: 106 - accumulated reward: -71.00\n",
      "Episode: 107 - accumulated reward: -78.00\n",
      "Episode: 108 - accumulated reward: -78.00\n",
      "Episode: 109 - accumulated reward: -89.00\n",
      "Episode: 110 - accumulated reward: -82.00\n",
      "Episode: 111 - accumulated reward: -89.00\n",
      "Episode: 112 - accumulated reward: -79.00\n",
      "Episode: 113 - accumulated reward: -77.00\n",
      "Episode: 114 - accumulated reward: -77.00\n",
      "Episode: 115 - accumulated reward: -79.00\n",
      "Episode: 116 - accumulated reward: -79.00\n",
      "Episode: 117 - accumulated reward: -78.00\n",
      "Episode: 118 - accumulated reward: -77.00\n",
      "Episode: 119 - accumulated reward: -91.00\n",
      "Test - accumulated reward: -188.0\n",
      "Test - accumulated reward: -369.0\n",
      "Test - accumulated reward: -237.0\n",
      "Test - accumulated reward: -208.0\n",
      "Test - accumulated reward: -222.0\n",
      "Test - accumulated reward: -305.0\n",
      "Test - accumulated reward: -500.0\n",
      "Episode: 120 - accumulated reward: -103.00\n",
      "Episode: 121 - accumulated reward: -93.00\n",
      "Episode: 122 - accumulated reward: -85.00\n",
      "Episode: 123 - accumulated reward: -86.00\n",
      "Episode: 124 - accumulated reward: -79.00\n",
      "Episode: 125 - accumulated reward: -79.00\n",
      "Episode: 126 - accumulated reward: -98.00\n",
      "Episode: 127 - accumulated reward: -82.00\n",
      "Episode: 128 - accumulated reward: -72.00\n",
      "Episode: 129 - accumulated reward: -80.00\n",
      "Episode: 130 - accumulated reward: -79.00\n",
      "Episode: 131 - accumulated reward: -102.00\n",
      "Episode: 132 - accumulated reward: -80.00\n",
      "Episode: 133 - accumulated reward: -78.00\n",
      "Episode: 134 - accumulated reward: -90.00\n",
      "Test - accumulated reward: -266.0\n",
      "Test - accumulated reward: -271.0\n",
      "Test - accumulated reward: -286.0\n",
      "Test - accumulated reward: -355.0\n",
      "Test - accumulated reward: -269.0\n",
      "Test - accumulated reward: -169.0\n",
      "Test - accumulated reward: -403.0\n",
      "Episode: 135 - accumulated reward: -80.00\n",
      "Episode: 136 - accumulated reward: -85.00\n",
      "Episode: 137 - accumulated reward: -78.00\n",
      "Episode: 138 - accumulated reward: -79.00\n",
      "Episode: 139 - accumulated reward: -77.00\n",
      "Episode: 140 - accumulated reward: -118.00\n",
      "Episode: 141 - accumulated reward: -73.00\n",
      "Episode: 142 - accumulated reward: -78.00\n",
      "Episode: 143 - accumulated reward: -81.00\n",
      "Episode: 144 - accumulated reward: -78.00\n",
      "Episode: 145 - accumulated reward: -77.00\n",
      "Episode: 146 - accumulated reward: -102.00\n"
     ]
    },
    {
     "name": "stdout",
     "output_type": "stream",
     "text": [
      "Episode: 147 - accumulated reward: -77.00\n",
      "Episode: 148 - accumulated reward: -99.00\n",
      "Episode: 149 - accumulated reward: -86.00\n",
      "Test - accumulated reward: -298.0\n",
      "Test - accumulated reward: -209.0\n",
      "Test - accumulated reward: -357.0\n",
      "Test - accumulated reward: -212.0\n",
      "Test - accumulated reward: -273.0\n",
      "Test - accumulated reward: -240.0\n",
      "Test - accumulated reward: -283.0\n",
      "Episode: 150 - accumulated reward: -97.00\n",
      "Episode: 151 - accumulated reward: -93.00\n",
      "Episode: 152 - accumulated reward: -71.00\n",
      "Episode: 153 - accumulated reward: -126.00\n",
      "Episode: 154 - accumulated reward: -322.00\n",
      "Episode: 155 - accumulated reward: -83.00\n",
      "Episode: 156 - accumulated reward: -85.00\n",
      "Episode: 157 - accumulated reward: -77.00\n",
      "Episode: 158 - accumulated reward: -81.00\n",
      "Episode: 159 - accumulated reward: -81.00\n",
      "Episode: 160 - accumulated reward: -78.00\n",
      "Episode: 161 - accumulated reward: -87.00\n",
      "Episode: 162 - accumulated reward: -77.00\n",
      "Episode: 163 - accumulated reward: -74.00\n",
      "Episode: 164 - accumulated reward: -77.00\n",
      "Test - accumulated reward: -224.0\n",
      "Test - accumulated reward: -256.0\n",
      "Test - accumulated reward: -252.0\n",
      "Test - accumulated reward: -235.0\n",
      "Test - accumulated reward: -160.0\n",
      "Test - accumulated reward: -470.0\n",
      "Test - accumulated reward: -217.0\n",
      "Episode: 165 - accumulated reward: -83.00\n",
      "Episode: 166 - accumulated reward: -92.00\n",
      "Episode: 167 - accumulated reward: -72.00\n",
      "Episode: 168 - accumulated reward: -86.00\n",
      "Episode: 169 - accumulated reward: -78.00\n",
      "Episode: 170 - accumulated reward: -79.00\n",
      "Episode: 171 - accumulated reward: -76.00\n",
      "Episode: 172 - accumulated reward: -79.00\n",
      "Episode: 173 - accumulated reward: -79.00\n",
      "Episode: 174 - accumulated reward: -180.00\n",
      "Episode: 175 - accumulated reward: -78.00\n",
      "Episode: 176 - accumulated reward: -84.00\n",
      "Episode: 177 - accumulated reward: -80.00\n",
      "Episode: 178 - accumulated reward: -80.00\n",
      "Episode: 179 - accumulated reward: -77.00\n",
      "Test - accumulated reward: -362.0\n",
      "Test - accumulated reward: -207.0\n",
      "Test - accumulated reward: -210.0\n",
      "Test - accumulated reward: -257.0\n",
      "Test - accumulated reward: -256.0\n",
      "Test - accumulated reward: -500.0\n",
      "Test - accumulated reward: -296.0\n",
      "Episode: 180 - accumulated reward: -78.00\n",
      "Episode: 181 - accumulated reward: -94.00\n",
      "Episode: 182 - accumulated reward: -87.00\n",
      "Episode: 183 - accumulated reward: -87.00\n",
      "Episode: 184 - accumulated reward: -96.00\n",
      "Episode: 185 - accumulated reward: -75.00\n",
      "Episode: 186 - accumulated reward: -64.00\n",
      "Episode: 187 - accumulated reward: -80.00\n",
      "Episode: 188 - accumulated reward: -77.00\n",
      "Episode: 189 - accumulated reward: -121.00\n",
      "Episode: 190 - accumulated reward: -76.00\n",
      "Episode: 191 - accumulated reward: -96.00\n",
      "Episode: 192 - accumulated reward: -88.00\n",
      "Episode: 193 - accumulated reward: -89.00\n",
      "Episode: 194 - accumulated reward: -94.00\n",
      "Test - accumulated reward: -232.0\n",
      "Test - accumulated reward: -267.0\n",
      "Test - accumulated reward: -347.0\n",
      "Test - accumulated reward: -199.0\n",
      "Test - accumulated reward: -205.0\n",
      "Test - accumulated reward: -243.0\n",
      "Test - accumulated reward: -452.0\n",
      "Episode: 195 - accumulated reward: -86.00\n",
      "Episode: 196 - accumulated reward: -82.00\n",
      "Episode: 197 - accumulated reward: -74.00\n",
      "Episode: 198 - accumulated reward: -85.00\n",
      "Episode: 199 - accumulated reward: -93.00\n",
      "Observation Finished\n"
     ]
    }
   ],
   "source": [
    "pipeline.observe_learn(function=expert_forward, weight='./acrobot_model.pth',\n",
    "                              test_interval=15, num_tests=7)\n",
    "print(\"Observation Finished\")"
   ]
  },
  {
   "cell_type": "code",
   "execution_count": 14,
   "id": "4812ef0f-5e9e-4b86-866f-162ae252e4a6",
   "metadata": {},
   "outputs": [
    {
     "data": {
      "image/png": "[encoded data removed]",
      "text/plain": [
       "<Figure size 640x480 with 1 Axes>"
      ]
     },
     "metadata": {},
     "output_type": "display_data"
    }
   ],
   "source": [
    "plt.plot(pipeline.test_rewards, label='test rewards')\n",
    "plt.xlabel(\"episode\")\n",
    "plt.ylabel(\"reward\")\n",
    "plt.legend()\n",
    "plt.savefig(f\"test_rewards_{5_11_10_5_50}.png\")"
   ]
  },
  {
   "cell_type": "code",
   "execution_count": 15,
   "id": "42235862-6ded-4f02-b68c-3a8a0dcb513e",
   "metadata": {},
   "outputs": [
    {
     "data": {
      "image/png": "[encoded data removed]",
      "text/plain": [
       "<Figure size 640x480 with 1 Axes>"
      ]
     },
     "metadata": {},
     "output_type": "display_data"
    }
   ],
   "source": [
    "plt.plot(pipeline.reward_list, label='rewards')\n",
    "plt.xlabel(\"episode\")\n",
    "plt.ylabel(\"reward\")\n",
    "plt.legend()\n",
    "plt.savefig(f\"rewards_{5_11}.png\")"
   ]
  },
  {
   "cell_type": "code",
   "execution_count": 16,
   "id": "28290290",
   "metadata": {},
   "outputs": [
    {
     "data": {
      "text/plain": [
       "-307.53846153846155"
      ]
     },
     "execution_count": 16,
     "metadata": {},
     "output_type": "execute_result"
    }
   ],
   "source": [
    "np.mean(pipeline.test_rewards)"
   ]
  },
  {
   "cell_type": "code",
   "execution_count": 17,
   "id": "578eb25b",
   "metadata": {},
   "outputs": [
    {
     "name": "stdout",
     "output_type": "stream",
     "text": [
      "Parameter containing:\n",
      "tensor([[ 0.6258,  0.3643,  0.3090],\n",
      "        [ 0.2639,  0.2006,  0.2157],\n",
      "        [ 0.3718,  0.3051,  0.2995],\n",
      "        [ 0.2890,  0.2930,  0.2826],\n",
      "        [ 0.3692,  0.1987,  0.0983],\n",
      "        [-1.0000,  0.1159,  0.0681],\n",
      "        [-0.4597,  0.1808,  0.2764],\n",
      "        [ 0.1813,  0.2315,  0.2361],\n",
      "        [-0.1710,  0.2626,  0.2631],\n",
      "        [ 0.2382,  0.2356,  0.2314],\n",
      "        [-0.8509, -0.0143,  0.0858],\n",
      "        [ 0.8974,  0.0355,  0.0959]])\n"
     ]
    }
   ],
   "source": [
    "w1 = pipeline.network.connections[(\"S2\", \"PM\")].w\n",
    "# plot_weights(w1)\n",
    "print(w1)"
   ]
  },
  {
   "cell_type": "code",
   "execution_count": null,
   "id": "751cc450",
   "metadata": {},
   "outputs": [],
   "source": []
  },
  {
   "cell_type": "code",
   "execution_count": 18,
   "id": "77b6908b",
   "metadata": {},
   "outputs": [
    {
     "data": {
      "text/plain": [
       "<matplotlib.image.AxesImage at 0x1baab3aef90>"
      ]
     },
     "execution_count": 18,
     "metadata": {},
     "output_type": "execute_result"
    },
    {
     "data": {
      "image/png": "[encoded data removed]",
      "text/plain": [
       "<Figure size 500x500 with 2 Axes>"
      ]
     },
     "metadata": {},
     "output_type": "display_data"
    }
   ],
   "source": [
    "plot_weights(w1)"
   ]
  },
  {
   "cell_type": "code",
   "execution_count": 19,
   "id": "4625fa2e",
   "metadata": {},
   "outputs": [
    {
     "name": "stdout",
     "output_type": "stream",
     "text": [
      "Parameter containing:\n",
      "tensor([-0.5000, -0.5000, -0.5000])\n"
     ]
    }
   ],
   "source": [
    "w2 = pipeline.network.connections[(\"PM\", \"PM\")].w\n",
    "# plot_weights(w1)\n",
    "print(w2)"
   ]
  },
  {
   "cell_type": "code",
   "execution_count": 20,
   "id": "76a2f976",
   "metadata": {},
   "outputs": [
    {
     "data": {
      "text/plain": [
       "torch.Size([25, 1, 3, 1])"
      ]
     },
     "execution_count": 20,
     "metadata": {},
     "output_type": "execute_result"
    }
   ],
   "source": [
    "pipeline.network.monitors['PMS'].get('s').shape"
   ]
  },
  {
   "cell_type": "code",
   "execution_count": 21,
   "id": "19a13108",
   "metadata": {},
   "outputs": [
    {
     "data": {
      "text/plain": [
       "tensor([[12,  0,  0,  0]])"
      ]
     },
     "execution_count": 21,
     "metadata": {},
     "output_type": "execute_result"
    }
   ],
   "source": [
    "pipeline.network.monitors['PMS'].get('s').nonzero()"
   ]
  },
  {
   "cell_type": "code",
   "execution_count": 22,
   "id": "a75f9e58",
   "metadata": {},
   "outputs": [
    {
     "data": {
      "text/plain": [
       "tensor([[[[-64.6873],\n",
       "          [-64.6972],\n",
       "          [-64.6836]]],\n",
       "\n",
       "\n",
       "        [[[-64.8103],\n",
       "          [-64.8163],\n",
       "          [-64.8081]]],\n",
       "\n",
       "\n",
       "        [[[-64.7036],\n",
       "          [-64.6571],\n",
       "          [-64.6475]]],\n",
       "\n",
       "\n",
       "        [[[-64.8202],\n",
       "          [-64.7920],\n",
       "          [-64.7862]]],\n",
       "\n",
       "\n",
       "        [[[-65.0619],\n",
       "          [-64.6112],\n",
       "          [-64.6072]]],\n",
       "\n",
       "\n",
       "        [[[-64.7994],\n",
       "          [-64.5286],\n",
       "          [-64.5303]]],\n",
       "\n",
       "\n",
       "        [[[-64.8783],\n",
       "          [-64.7141],\n",
       "          [-64.7151]]],\n",
       "\n",
       "\n",
       "        [[[-64.9262],\n",
       "          [-64.8266],\n",
       "          [-64.8272]]],\n",
       "\n",
       "\n",
       "        [[[-64.3294],\n",
       "          [-64.5305],\n",
       "          [-64.5862]]],\n",
       "\n",
       "\n",
       "        [[[-65.5933],\n",
       "          [-64.5994],\n",
       "          [-64.6809]]],\n",
       "\n",
       "\n",
       "        [[[-65.3598],\n",
       "          [-64.7570],\n",
       "          [-64.8065]]],\n",
       "\n",
       "\n",
       "        [[[-66.0692],\n",
       "          [-64.8669],\n",
       "          [-64.7968]]],\n",
       "\n",
       "\n",
       "        [[[-65.6485],\n",
       "          [-64.9193],\n",
       "          [-64.8768]]],\n",
       "\n",
       "\n",
       "        [[[-65.8933],\n",
       "          [-65.4510],\n",
       "          [-65.4253]]],\n",
       "\n",
       "\n",
       "        [[[-65.5418],\n",
       "          [-65.2736],\n",
       "          [-65.2579]]],\n",
       "\n",
       "\n",
       "        [[[-64.9595],\n",
       "          [-64.9672],\n",
       "          [-65.0582]]],\n",
       "\n",
       "\n",
       "        [[[-64.9754],\n",
       "          [-64.9801],\n",
       "          [-65.0353]]],\n",
       "\n",
       "\n",
       "        [[[-64.0876],\n",
       "          [-64.9525],\n",
       "          [-64.9255]]],\n",
       "\n",
       "\n",
       "        [[[-64.9064],\n",
       "          [-64.7904],\n",
       "          [-64.6784]]],\n",
       "\n",
       "\n",
       "        [[[-64.9432],\n",
       "          [-64.8729],\n",
       "          [-64.8049]]],\n",
       "\n",
       "\n",
       "        [[[-64.9656],\n",
       "          [-64.9229],\n",
       "          [-64.8817]]],\n",
       "\n",
       "\n",
       "        [[[-64.6901],\n",
       "          [-64.6602],\n",
       "          [-64.6457]]],\n",
       "\n",
       "\n",
       "        [[[-64.4402],\n",
       "          [-64.4888],\n",
       "          [-64.4856]]],\n",
       "\n",
       "\n",
       "        [[[-64.6605],\n",
       "          [-64.6899],\n",
       "          [-64.6880]]],\n",
       "\n",
       "\n",
       "        [[[-64.5302],\n",
       "          [-64.6113],\n",
       "          [-64.5951]]]])"
      ]
     },
     "execution_count": 22,
     "metadata": {},
     "output_type": "execute_result"
    }
   ],
   "source": [
    "pipeline.network.monitors['PMV'].get('v')"
   ]
  },
  {
   "cell_type": "code",
   "execution_count": 23,
   "id": "caa9772b",
   "metadata": {},
   "outputs": [
    {
     "data": {
      "text/plain": [
       "torch.Size([25, 1, 3, 1])"
      ]
     },
     "execution_count": 23,
     "metadata": {},
     "output_type": "execute_result"
    }
   ],
   "source": [
    "pipeline.network.monitors['PMV'].get('v').shape"
   ]
  },
  {
   "cell_type": "code",
   "execution_count": null,
   "id": "ec545590",
   "metadata": {},
   "outputs": [],
   "source": []
  },
  {
   "cell_type": "code",
   "execution_count": null,
   "id": "dc9008fe",
   "metadata": {},
   "outputs": [],
   "source": []
  },
  {
   "cell_type": "code",
   "execution_count": null,
   "id": "49928666",
   "metadata": {},
   "outputs": [],
   "source": []
  }
 ],
 "metadata": {
  "kernelspec": {
   "display_name": "rl_torch",
   "language": "python",
   "name": "rl_torch"
  },
  "language_info": {
   "codemirror_mode": {
    "name": "ipython",
    "version": 3
   },
   "file_extension": ".py",
   "mimetype": "text/x-python",
   "name": "python",
   "nbconvert_exporter": "python",
   "pygments_lexer": "ipython3",
   "version": "3.11.4"
  }
 },
 "nbformat": 4,
 "nbformat_minor": 5
}
