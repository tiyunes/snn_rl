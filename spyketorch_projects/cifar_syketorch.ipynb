{
  "metadata": {
    "kernelspec": {
      "display_name": "Python 3",
      "name": "python3"
    },
    "language_info": {
      "name": "python",
      "version": "3.10.12",
      "mimetype": "text/x-python",
      "codemirror_mode": {
        "name": "ipython",
        "version": 3
      },
      "pygments_lexer": "ipython3",
      "nbconvert_exporter": "python",
      "file_extension": ".py"
    },
    "colab": {
      "provenance": [],
      "gpuType": "T4"
    },
    "accelerator": "GPU"
  },
  "nbformat_minor": 0,
  "nbformat": 4,
  "cells": [
    {
      "cell_type": "code",
      "source": [
        "# Clone the repository\n",
        "!git clone https://github.com/miladmozafari/SpykeTorch"
      ],
      "metadata": {
        "_uuid": "8f2839f25d086af736a60e9eeb907d3b93b6e0e5",
        "_cell_guid": "b1076dfc-b9ad-4769-8c92-a6c4dae69d19",
        "execution": {
          "iopub.status.busy": "2023-09-12T17:45:06.737675Z",
          "iopub.execute_input": "2023-09-12T17:45:06.738310Z",
          "iopub.status.idle": "2023-09-12T17:45:08.966438Z",
          "shell.execute_reply.started": "2023-09-12T17:45:06.738275Z",
          "shell.execute_reply": "2023-09-12T17:45:08.964698Z"
        },
        "trusted": true,
        "colab": {
          "base_uri": "https://localhost:8080/"
        },
        "id": "ldr1VG60hXqx",
        "outputId": "8246fe73-3ec1-4bb3-da10-f8ebc49bdcc4"
      },
      "execution_count": 1,
      "outputs": [
        {
          "output_type": "stream",
          "name": "stdout",
          "text": [
            "Cloning into 'SpykeTorch'...\n",
            "remote: Enumerating objects: 1026, done.\u001b[K\n",
            "remote: Counting objects: 100% (28/28), done.\u001b[K\n",
            "remote: Compressing objects: 100% (19/19), done.\u001b[K\n",
            "remote: Total 1026 (delta 9), reused 24 (delta 7), pack-reused 998\u001b[K\n",
            "Receiving objects: 100% (1026/1026), 6.11 MiB | 11.45 MiB/s, done.\n",
            "Resolving deltas: 100% (91/91), done.\n"
          ]
        }
      ]
    },
    {
      "cell_type": "code",
      "source": [
        "import pandas as pd\n",
        "import numpy as np\n",
        "import matplotlib.pyplot as plt\n",
        "import seaborn as sns\n",
        "import os\n",
        "import torch\n",
        "import torch.nn as nn\n",
        "import pylab\n",
        "import torchvision\n",
        "import random\n",
        "import skimage.io\n",
        "import glob\n",
        "import shutil\n",
        "from tqdm import tqdm\n",
        "from PIL import Image\n",
        "from pathlib import Path\n",
        "from torch.utils.data import DataLoader\n",
        "from torchvision.datasets import ImageFolder\n",
        "from torch.nn.parameter import Parameter\n",
        "from scipy import signal\n",
        "from scipy.io import wavfile\n",
        "from pathlib import Path\n",
        "from torchvision import transforms\n",
        "from tqdm import tqdm\n",
        "import warnings\n",
        "warnings.filterwarnings('ignore', category=UserWarning)"
      ],
      "metadata": {
        "execution": {
          "iopub.status.busy": "2023-09-12T17:45:08.970178Z",
          "iopub.execute_input": "2023-09-12T17:45:08.970762Z",
          "iopub.status.idle": "2023-09-12T17:45:16.362950Z",
          "shell.execute_reply.started": "2023-09-12T17:45:08.970709Z",
          "shell.execute_reply": "2023-09-12T17:45:16.361701Z"
        },
        "trusted": true,
        "id": "UEjwyqiGhXq2"
      },
      "execution_count": 2,
      "outputs": []
    },
    {
      "cell_type": "code",
      "source": [
        "from SpykeTorch.SpykeTorch import snn\n",
        "from SpykeTorch.SpykeTorch import functional as sf\n",
        "from SpykeTorch.SpykeTorch import visualization as vis\n",
        "from SpykeTorch.SpykeTorch import utils"
      ],
      "metadata": {
        "execution": {
          "iopub.status.busy": "2023-09-12T17:45:16.364527Z",
          "iopub.execute_input": "2023-09-12T17:45:16.365074Z",
          "iopub.status.idle": "2023-09-12T17:45:16.381708Z",
          "shell.execute_reply.started": "2023-09-12T17:45:16.365028Z",
          "shell.execute_reply": "2023-09-12T17:45:16.380616Z"
        },
        "trusted": true,
        "id": "6f9zGhtJhXq3"
      },
      "execution_count": 3,
      "outputs": []
    },
    {
      "cell_type": "code",
      "source": [
        "use_cuda = True\n",
        "\n",
        "!nvidia-smi"
      ],
      "metadata": {
        "execution": {
          "iopub.status.busy": "2023-09-12T17:45:16.383679Z",
          "iopub.execute_input": "2023-09-12T17:45:16.384841Z",
          "iopub.status.idle": "2023-09-12T17:45:16.389990Z",
          "shell.execute_reply.started": "2023-09-12T17:45:16.384804Z",
          "shell.execute_reply": "2023-09-12T17:45:16.388597Z"
        },
        "trusted": true,
        "colab": {
          "base_uri": "https://localhost:8080/"
        },
        "id": "B6bFvQ9EhXq3",
        "outputId": "c1c43403-5cac-4f22-86cf-37b129e2f10a"
      },
      "execution_count": 4,
      "outputs": [
        {
          "output_type": "stream",
          "name": "stdout",
          "text": [
            "Tue Sep 12 17:53:04 2023       \n",
            "+-----------------------------------------------------------------------------+\n",
            "| NVIDIA-SMI 525.105.17   Driver Version: 525.105.17   CUDA Version: 12.0     |\n",
            "|-------------------------------+----------------------+----------------------+\n",
            "| GPU  Name        Persistence-M| Bus-Id        Disp.A | Volatile Uncorr. ECC |\n",
            "| Fan  Temp  Perf  Pwr:Usage/Cap|         Memory-Usage | GPU-Util  Compute M. |\n",
            "|                               |                      |               MIG M. |\n",
            "|===============================+======================+======================|\n",
            "|   0  Tesla T4            Off  | 00000000:00:04.0 Off |                    0 |\n",
            "| N/A   37C    P8     9W /  70W |      0MiB / 15360MiB |      0%      Default |\n",
            "|                               |                      |                  N/A |\n",
            "+-------------------------------+----------------------+----------------------+\n",
            "                                                                               \n",
            "+-----------------------------------------------------------------------------+\n",
            "| Processes:                                                                  |\n",
            "|  GPU   GI   CI        PID   Type   Process name                  GPU Memory |\n",
            "|        ID   ID                                                   Usage      |\n",
            "|=============================================================================|\n",
            "|  No running processes found                                                 |\n",
            "+-----------------------------------------------------------------------------+\n"
          ]
        }
      ]
    },
    {
      "cell_type": "code",
      "source": [
        "class CIFAR10SpykeTorch(nn.Module):\n",
        "    def __init__(self):\n",
        "        super().__init__()\n",
        "\n",
        "        self.conv1 = snn.Convolution(4, 32, 5, 0.8, 0.05)\n",
        "        self.conv1_t = 15\n",
        "        self.k1 = 5\n",
        "        self.r1 = 3\n",
        "\n",
        "        self.conv2 = snn.Convolution(32, 256, 3, 0.8, 0.05)\n",
        "        self.conv2_t = 10\n",
        "        self.k2 = 8\n",
        "        self.r2 = 1\n",
        "\n",
        "        self.conv3 = snn.Convolution(256, 200, 5, 0.8, 0.05)\n",
        "\n",
        "        self.stdp1 = snn.STDP(self.conv1, (0.002, -0.001))\n",
        "        self.stdp2 = snn.STDP(self.conv2, (0.002, -0.001))\n",
        "        self.stdp3 = snn.STDP(self.conv3, (0.002, -0.001), False, 0.2, 0.8)\n",
        "        self.anti_stdp3 = snn.STDP(self.conv3, (-0.002, 0.0003), False, 0.2, 0.8)\n",
        "        self.max_ap = Parameter(torch.Tensor([0.05]))\n",
        "\n",
        "        self.decision_map = []\n",
        "        for i in range(10):\n",
        "            self.decision_map.extend([i]*20)\n",
        "\n",
        "\n",
        "        self.ctx = {\"input_spikes\":None, \"potentials\":None, \"output_spikes\":None, \"winners\":None}\n",
        "        self.spk_cnt1 = 0\n",
        "        self.spk_cnt2 = 0\n",
        "\n",
        "    def forward(self, input, max_layer):\n",
        "        input = sf.pad(input.float(), (2,2,2,2), 0)\n",
        "        if self.training:\n",
        "            pot = self.conv1(input)\n",
        "            spk, pot = sf.fire(pot, self.conv1_t, True)\n",
        "            if max_layer == 1:\n",
        "                self.spk_cnt1 += 1\n",
        "                if self.spk_cnt1 >= 500:\n",
        "                    self.spk_cnt1 = 0\n",
        "                    ap = torch.tensor(self.stdp1.learning_rate[0][0].item(), device=self.stdp1.learning_rate[0][0].device) * 2\n",
        "                    ap = torch.min(ap, self.max_ap)\n",
        "                    an = ap * -0.75\n",
        "                    self.stdp1.update_all_learning_rate(ap.item(), an.item())\n",
        "                pot = sf.pointwise_inhibition(pot)\n",
        "                spk = pot.sign()\n",
        "                winners = sf.get_k_winners(pot, self.k1, self.r1, spk)\n",
        "                self.ctx[\"input_spikes\"] = input\n",
        "                self.ctx[\"potentials\"] = pot\n",
        "                self.ctx[\"output_spikes\"] = spk\n",
        "                self.ctx[\"winners\"] = winners\n",
        "                return spk, pot\n",
        "            spk_in = sf.pad(sf.pooling(spk, 2, 2), (1,1,1,1))\n",
        "            pot = self.conv2(spk_in)\n",
        "            spk, pot = sf.fire(pot, self.conv2_t, True)\n",
        "            if max_layer == 2:\n",
        "                self.spk_cnt2 += 1\n",
        "                if self.spk_cnt2 >= 500:\n",
        "                    self.spk_cnt2 = 0\n",
        "                    ap = torch.tensor(self.stdp2.learning_rate[0][0].item(), device=self.stdp2.learning_rate[0][0].device) * 2\n",
        "                    ap = torch.min(ap, self.max_ap)\n",
        "                    an = ap * -0.75\n",
        "                    self.stdp2.update_all_learning_rate(ap.item(), an.item())\n",
        "                pot = sf.pointwise_inhibition(pot)\n",
        "                spk = pot.sign()\n",
        "                winners = sf.get_k_winners(pot, self.k2, self.r2, spk)\n",
        "                self.ctx[\"input_spikes\"] = spk_in\n",
        "                self.ctx[\"potentials\"] = pot\n",
        "                self.ctx[\"output_spikes\"] = spk\n",
        "                self.ctx[\"winners\"] = winners\n",
        "                return spk, pot\n",
        "            spk_in = sf.pad(sf.pooling(spk, 3, 3), (2,2,2,2))\n",
        "            pot = self.conv3(spk_in)\n",
        "            spk = sf.fire(pot)\n",
        "            winners = sf.get_k_winners(pot, 1, 0, spk)\n",
        "            self.ctx[\"input_spikes\"] = spk_in\n",
        "            self.ctx[\"potentials\"] = pot\n",
        "            self.ctx[\"output_spikes\"] = spk\n",
        "            self.ctx[\"winners\"] = winners\n",
        "            output = -1\n",
        "            if len(winners) != 0:\n",
        "                output = self.decision_map[winners[0][0]]\n",
        "            return output\n",
        "        else:\n",
        "            pot = self.conv1(input)\n",
        "            spk, pot = sf.fire(pot, self.conv1_t, True)\n",
        "            if max_layer == 1:\n",
        "                return spk, pot\n",
        "            pot = self.conv2(sf.pad(sf.pooling(spk, 2, 2), (1,1,1,1)))\n",
        "            spk, pot = sf.fire(pot, self.conv2_t, True)\n",
        "            if max_layer == 2:\n",
        "                return spk, pot\n",
        "            pot = self.conv3(sf.pad(sf.pooling(spk, 3, 3), (2,2,2,2)))\n",
        "            spk = sf.fire(pot)\n",
        "            winners = sf.get_k_winners(pot, 1, 0, spk)\n",
        "            output = -1\n",
        "            if len(winners) != 0:\n",
        "                output = self.decision_map[winners[0][0]]\n",
        "            return output\n",
        "\n",
        "    def stdp(self, layer_idx):\n",
        "        if layer_idx == 1:\n",
        "            self.stdp1(self.ctx[\"input_spikes\"], self.ctx[\"potentials\"], self.ctx[\"output_spikes\"], self.ctx[\"winners\"])\n",
        "        if layer_idx == 2:\n",
        "            self.stdp2(self.ctx[\"input_spikes\"], self.ctx[\"potentials\"], self.ctx[\"output_spikes\"], self.ctx[\"winners\"])\n",
        "\n",
        "    def update_learning_rates(self, stdp_ap, stdp_an, anti_stdp_ap, anti_stdp_an):\n",
        "        self.stdp3.update_all_learning_rate(stdp_ap, stdp_an)\n",
        "        self.anti_stdp3.update_all_learning_rate(anti_stdp_an, anti_stdp_ap)\n",
        "\n",
        "    def reward(self):\n",
        "        self.stdp3(self.ctx[\"input_spikes\"], self.ctx[\"potentials\"], self.ctx[\"output_spikes\"], self.ctx[\"winners\"])\n",
        "\n",
        "    def punish(self):\n",
        "        self.anti_stdp3(self.ctx[\"input_spikes\"], self.ctx[\"potentials\"], self.ctx[\"output_spikes\"], self.ctx[\"winners\"])"
      ],
      "metadata": {
        "execution": {
          "iopub.status.busy": "2023-09-12T17:45:16.391528Z",
          "iopub.execute_input": "2023-09-12T17:45:16.391842Z",
          "iopub.status.idle": "2023-09-12T17:45:16.427182Z",
          "shell.execute_reply.started": "2023-09-12T17:45:16.391815Z",
          "shell.execute_reply": "2023-09-12T17:45:16.426143Z"
        },
        "trusted": true,
        "id": "XNgNh2kihXq4"
      },
      "execution_count": 5,
      "outputs": []
    },
    {
      "cell_type": "code",
      "source": [
        "def train_unsupervise(network, data, layer_idx):\n",
        "    network.train()\n",
        "    for i in range(len(data)):\n",
        "        data_in = data[i]\n",
        "        if use_cuda:\n",
        "            data_in = data_in.cuda()\n",
        "        network(data_in, layer_idx)\n",
        "        network.stdp(layer_idx)"
      ],
      "metadata": {
        "execution": {
          "iopub.status.busy": "2023-09-12T17:45:20.265250Z",
          "iopub.execute_input": "2023-09-12T17:45:20.265683Z",
          "iopub.status.idle": "2023-09-12T17:45:20.271993Z",
          "shell.execute_reply.started": "2023-09-12T17:45:20.265640Z",
          "shell.execute_reply": "2023-09-12T17:45:20.271016Z"
        },
        "trusted": true,
        "id": "N8fxpznEhXq7"
      },
      "execution_count": 6,
      "outputs": []
    },
    {
      "cell_type": "code",
      "source": [
        "def train_rl(network, data, target):\n",
        "    network.train()\n",
        "    perf = np.array([0,0,0]) # correct, wrong, silence\n",
        "    for i in range(len(data)):\n",
        "        data_in = data[i]\n",
        "        target_in = target[i]\n",
        "        if use_cuda:\n",
        "            data_in = data_in.cuda()\n",
        "            target_in = target_in.cuda()\n",
        "        d = network(data_in, 3)\n",
        "        if d != -1:\n",
        "            if d == target_in:\n",
        "                perf[0]+=1\n",
        "                network.reward()\n",
        "            else:\n",
        "                perf[1]+=1\n",
        "                network.punish()\n",
        "        else:\n",
        "            perf[2]+=1\n",
        "    return perf/len(data)"
      ],
      "metadata": {
        "execution": {
          "iopub.status.busy": "2023-09-12T17:45:22.026641Z",
          "iopub.execute_input": "2023-09-12T17:45:22.027112Z",
          "iopub.status.idle": "2023-09-12T17:45:22.038085Z",
          "shell.execute_reply.started": "2023-09-12T17:45:22.027076Z",
          "shell.execute_reply": "2023-09-12T17:45:22.036485Z"
        },
        "trusted": true,
        "id": "_X65oZithXq7"
      },
      "execution_count": 7,
      "outputs": []
    },
    {
      "cell_type": "code",
      "source": [
        "def test(network, data, target):\n",
        "    network.eval()\n",
        "    perf = np.array([0,0,0]) # correct, wrong, silence\n",
        "    for i in range(len(data)):\n",
        "        data_in = data[i]\n",
        "        target_in = target[i]\n",
        "        if use_cuda:\n",
        "            data_in = data_in.cuda()\n",
        "            target_in = target_in.cuda()\n",
        "        d = network(data_in, 3)\n",
        "        if d != -1:\n",
        "            if d == target_in:\n",
        "                perf[0]+=1\n",
        "            else:\n",
        "                perf[1]+=1\n",
        "        else:\n",
        "            perf[2]+=1\n",
        "    return perf/len(data)"
      ],
      "metadata": {
        "execution": {
          "iopub.status.busy": "2023-09-12T17:45:24.567383Z",
          "iopub.execute_input": "2023-09-12T17:45:24.567807Z",
          "iopub.status.idle": "2023-09-12T17:45:24.576965Z",
          "shell.execute_reply.started": "2023-09-12T17:45:24.567774Z",
          "shell.execute_reply": "2023-09-12T17:45:24.575485Z"
        },
        "trusted": true,
        "id": "pfUsRceLhXq8"
      },
      "execution_count": 8,
      "outputs": []
    },
    {
      "cell_type": "code",
      "source": [
        "class S1C1Transform:\n",
        "    def __init__(self, filter, timesteps = 15):\n",
        "        self.gray_scale = transforms.Grayscale()\n",
        "        self.to_tensor = transforms.ToTensor()\n",
        "        self.filter = filter\n",
        "        self.temporal_transform = utils.Intensity2Latency(timesteps)\n",
        "        self.cnt = 0\n",
        "\n",
        "    def __call__(self, image):\n",
        "        if self.cnt % 1000 == 0:\n",
        "            print(self.cnt)\n",
        "        self.cnt+=1\n",
        "        image = self.to_tensor(image) * 255\n",
        "        image = self.gray_scale(image)\n",
        "        image.unsqueeze_(0)\n",
        "        image = self.filter(image)\n",
        "        image = sf.local_normalization(image, 8)\n",
        "        temporal_image = self.temporal_transform(image)\n",
        "        return temporal_image.sign().byte()"
      ],
      "metadata": {
        "execution": {
          "iopub.status.busy": "2023-09-12T17:45:27.086493Z",
          "iopub.execute_input": "2023-09-12T17:45:27.086956Z",
          "iopub.status.idle": "2023-09-12T17:45:27.095684Z",
          "shell.execute_reply.started": "2023-09-12T17:45:27.086921Z",
          "shell.execute_reply": "2023-09-12T17:45:27.094721Z"
        },
        "trusted": true,
        "id": "OYY4ms1AhXq8"
      },
      "execution_count": 9,
      "outputs": []
    },
    {
      "cell_type": "code",
      "source": [
        "kernels = [\n",
        "            utils.DoGKernel(3,6/9,3/9),\n",
        "            utils.DoGKernel(3,12/9,3/9),\n",
        "            utils.DoGKernel(2,4/9,2/9),\n",
        "            utils.DoGKernel(2,8/9,2/9),\n",
        "            ]"
      ],
      "metadata": {
        "execution": {
          "iopub.status.busy": "2023-09-12T17:45:28.989804Z",
          "iopub.execute_input": "2023-09-12T17:45:28.990288Z",
          "iopub.status.idle": "2023-09-12T17:45:28.996949Z",
          "shell.execute_reply.started": "2023-09-12T17:45:28.990251Z",
          "shell.execute_reply": "2023-09-12T17:45:28.995722Z"
        },
        "trusted": true,
        "id": "hY-1TAWehXq_"
      },
      "execution_count": 10,
      "outputs": []
    },
    {
      "cell_type": "code",
      "source": [
        "filter = utils.Filter(kernels, padding = 6, thresholds = 15)\n",
        "s1c1 = S1C1Transform(filter)"
      ],
      "metadata": {
        "execution": {
          "iopub.status.busy": "2023-09-12T17:45:31.155945Z",
          "iopub.execute_input": "2023-09-12T17:45:31.156406Z",
          "iopub.status.idle": "2023-09-12T17:45:31.234890Z",
          "shell.execute_reply.started": "2023-09-12T17:45:31.156373Z",
          "shell.execute_reply": "2023-09-12T17:45:31.233616Z"
        },
        "trusted": true,
        "id": "uinq5VP_hXq_"
      },
      "execution_count": 11,
      "outputs": []
    },
    {
      "cell_type": "code",
      "source": [
        "data_root = \"data\"\n",
        "CIFAR_train = utils.CacheDataset(torchvision.datasets.CIFAR10(root=data_root, train=True, download=True, transform = s1c1))\n",
        "CIFAR_test = utils.CacheDataset(torchvision.datasets.CIFAR10(root=data_root, train=False, download=True, transform = s1c1))\n",
        "CIFAR_loader = DataLoader(CIFAR_train, batch_size=1000, shuffle=False)\n",
        "CIFAR_testLoader = DataLoader(CIFAR_test, batch_size=len(CIFAR_test), shuffle=False)"
      ],
      "metadata": {
        "execution": {
          "iopub.status.busy": "2023-09-12T17:45:33.429517Z",
          "iopub.execute_input": "2023-09-12T17:45:33.429969Z",
          "iopub.status.idle": "2023-09-12T17:45:43.016768Z",
          "shell.execute_reply.started": "2023-09-12T17:45:33.429935Z",
          "shell.execute_reply": "2023-09-12T17:45:43.015336Z"
        },
        "trusted": true,
        "colab": {
          "base_uri": "https://localhost:8080/"
        },
        "id": "37XBIRgahXq_",
        "outputId": "56b313e2-62e6-4060-d15c-23470f8f25ea"
      },
      "execution_count": 12,
      "outputs": [
        {
          "output_type": "stream",
          "name": "stdout",
          "text": [
            "Downloading https://www.cs.toronto.edu/~kriz/cifar-10-python.tar.gz to data/cifar-10-python.tar.gz\n"
          ]
        },
        {
          "output_type": "stream",
          "name": "stderr",
          "text": [
            "100%|██████████| 170498071/170498071 [00:03<00:00, 43573515.77it/s]\n"
          ]
        },
        {
          "output_type": "stream",
          "name": "stdout",
          "text": [
            "Extracting data/cifar-10-python.tar.gz to data\n",
            "Files already downloaded and verified\n"
          ]
        }
      ]
    },
    {
      "cell_type": "code",
      "source": [
        "net = CIFAR10SpykeTorch()\n",
        "\n",
        "if use_cuda:\n",
        "    net.cuda()"
      ],
      "metadata": {
        "execution": {
          "iopub.status.busy": "2023-09-12T17:45:43.019083Z",
          "iopub.execute_input": "2023-09-12T17:45:43.019540Z",
          "iopub.status.idle": "2023-09-12T17:45:43.074250Z",
          "shell.execute_reply.started": "2023-09-12T17:45:43.019490Z",
          "shell.execute_reply": "2023-09-12T17:45:43.073308Z"
        },
        "trusted": true,
        "id": "K-DHdiULhXq_"
      },
      "execution_count": 13,
      "outputs": []
    },
    {
      "cell_type": "code",
      "source": [
        "# Training The First Layer\n",
        "print(\"Training the first layer\")\n",
        "if os.path.isfile(\"/content/saved_l1.net\"):\n",
        "    net.load_state_dict(torch.load(\"/content/saved_l1.net\"))"
      ],
      "metadata": {
        "execution": {
          "iopub.status.busy": "2023-09-12T17:45:55.630308Z",
          "iopub.execute_input": "2023-09-12T17:45:55.630739Z",
          "iopub.status.idle": "2023-09-12T17:45:56.029103Z",
          "shell.execute_reply.started": "2023-09-12T17:45:55.630703Z",
          "shell.execute_reply": "2023-09-12T17:45:56.027286Z"
        },
        "trusted": true,
        "colab": {
          "base_uri": "https://localhost:8080/"
        },
        "id": "CHy86OfPhXq_",
        "outputId": "d0e171b7-d77f-4b5a-9877-6bea4b5fd9d7"
      },
      "execution_count": 14,
      "outputs": [
        {
          "output_type": "stream",
          "name": "stdout",
          "text": [
            "Training the first layer\n"
          ]
        },
        {
          "output_type": "stream",
          "name": "stderr",
          "text": [
            "\r  0%|          | 0/10 [00:00<?, ?it/s]"
          ]
        },
        {
          "output_type": "stream",
          "name": "stdout",
          "text": [
            "Epoch 0\n",
            "0\n",
            "1000\n",
            "2000\n",
            "3000\n",
            "4000\n",
            "5000\n",
            "6000\n",
            "7000\n",
            "8000\n",
            "9000\n",
            "10000\n",
            "11000\n",
            "12000\n",
            "13000\n",
            "14000\n",
            "15000\n",
            "16000\n",
            "17000\n",
            "18000\n",
            "19000\n",
            "20000\n",
            "21000\n",
            "22000\n",
            "23000\n",
            "24000\n",
            "25000\n",
            "26000\n",
            "27000\n",
            "28000\n",
            "29000\n",
            "30000\n",
            "31000\n",
            "32000\n",
            "33000\n",
            "34000\n",
            "35000\n",
            "36000\n",
            "37000\n",
            "38000\n",
            "39000\n",
            "40000\n",
            "41000\n",
            "42000\n",
            "43000\n",
            "44000\n",
            "45000\n",
            "46000\n",
            "47000\n",
            "48000\n",
            "49000\n"
          ]
        },
        {
          "output_type": "stream",
          "name": "stderr",
          "text": [
            "\r 10%|█         | 1/10 [04:00<36:04, 240.47s/it]"
          ]
        },
        {
          "output_type": "stream",
          "name": "stdout",
          "text": [
            "Epoch 1\n"
          ]
        },
        {
          "output_type": "stream",
          "name": "stderr",
          "text": [
            "\r 20%|██        | 2/10 [05:49<21:45, 163.21s/it]"
          ]
        },
        {
          "output_type": "stream",
          "name": "stdout",
          "text": [
            "Epoch 2\n"
          ]
        },
        {
          "output_type": "stream",
          "name": "stderr",
          "text": [
            "\r 30%|███       | 3/10 [07:38<16:09, 138.49s/it]"
          ]
        },
        {
          "output_type": "stream",
          "name": "stdout",
          "text": [
            "Epoch 3\n"
          ]
        },
        {
          "output_type": "stream",
          "name": "stderr",
          "text": [
            "\r 40%|████      | 4/10 [09:27<12:41, 126.96s/it]"
          ]
        },
        {
          "output_type": "stream",
          "name": "stdout",
          "text": [
            "Epoch 4\n"
          ]
        },
        {
          "output_type": "stream",
          "name": "stderr",
          "text": [
            "\r 50%|█████     | 5/10 [11:16<10:01, 120.34s/it]"
          ]
        },
        {
          "output_type": "stream",
          "name": "stdout",
          "text": [
            "Epoch 5\n"
          ]
        },
        {
          "output_type": "stream",
          "name": "stderr",
          "text": [
            "\r 60%|██████    | 6/10 [13:05<07:45, 116.37s/it]"
          ]
        },
        {
          "output_type": "stream",
          "name": "stdout",
          "text": [
            "Epoch 6\n"
          ]
        },
        {
          "output_type": "stream",
          "name": "stderr",
          "text": [
            "\r 70%|███████   | 7/10 [14:53<05:41, 113.78s/it]"
          ]
        },
        {
          "output_type": "stream",
          "name": "stdout",
          "text": [
            "Epoch 7\n"
          ]
        },
        {
          "output_type": "stream",
          "name": "stderr",
          "text": [
            "\r 80%|████████  | 8/10 [16:41<03:43, 111.95s/it]"
          ]
        },
        {
          "output_type": "stream",
          "name": "stdout",
          "text": [
            "Epoch 8\n"
          ]
        },
        {
          "output_type": "stream",
          "name": "stderr",
          "text": [
            "\r 90%|█████████ | 9/10 [18:31<01:51, 111.42s/it]"
          ]
        },
        {
          "output_type": "stream",
          "name": "stdout",
          "text": [
            "Epoch 9\n"
          ]
        },
        {
          "output_type": "stream",
          "name": "stderr",
          "text": [
            "100%|██████████| 10/10 [20:20<00:00, 122.01s/it]\n"
          ]
        }
      ]
    },
    {
      "cell_type": "code",
      "source": [
        "for epoch in tqdm(range(15)):\n",
        "    print(\"Epoch\", epoch)\n",
        "    for data,targets in CIFAR_loader:\n",
        "        train_unsupervise(net, data, 1)\n",
        "torch.save(net.state_dict(), \"saved_l1.net\")"
      ],
      "metadata": {
        "colab": {
          "base_uri": "https://localhost:8080/"
        },
        "id": "l6YVIX_1-fum",
        "outputId": "c79ad9f4-8947-4b70-8eb5-85821951e454"
      },
      "execution_count": 27,
      "outputs": [
        {
          "output_type": "stream",
          "name": "stderr",
          "text": [
            "\r  0%|          | 0/15 [00:00<?, ?it/s]"
          ]
        },
        {
          "output_type": "stream",
          "name": "stdout",
          "text": [
            "Epoch 0\n"
          ]
        },
        {
          "output_type": "stream",
          "name": "stderr",
          "text": [
            "\r  7%|▋         | 1/15 [01:43<24:13, 103.80s/it]"
          ]
        },
        {
          "output_type": "stream",
          "name": "stdout",
          "text": [
            "Epoch 1\n"
          ]
        },
        {
          "output_type": "stream",
          "name": "stderr",
          "text": [
            "\r 13%|█▎        | 2/15 [03:27<22:28, 103.75s/it]"
          ]
        },
        {
          "output_type": "stream",
          "name": "stdout",
          "text": [
            "Epoch 2\n"
          ]
        },
        {
          "output_type": "stream",
          "name": "stderr",
          "text": [
            "\r 20%|██        | 3/15 [05:12<20:50, 104.23s/it]"
          ]
        },
        {
          "output_type": "stream",
          "name": "stdout",
          "text": [
            "Epoch 3\n"
          ]
        },
        {
          "output_type": "stream",
          "name": "stderr",
          "text": [
            "\r 27%|██▋       | 4/15 [06:57<19:08, 104.42s/it]"
          ]
        },
        {
          "output_type": "stream",
          "name": "stdout",
          "text": [
            "Epoch 4\n"
          ]
        },
        {
          "output_type": "stream",
          "name": "stderr",
          "text": [
            "\r 33%|███▎      | 5/15 [08:41<17:23, 104.30s/it]"
          ]
        },
        {
          "output_type": "stream",
          "name": "stdout",
          "text": [
            "Epoch 5\n"
          ]
        },
        {
          "output_type": "stream",
          "name": "stderr",
          "text": [
            "\r 40%|████      | 6/15 [10:24<15:35, 103.97s/it]"
          ]
        },
        {
          "output_type": "stream",
          "name": "stdout",
          "text": [
            "Epoch 6\n"
          ]
        },
        {
          "output_type": "stream",
          "name": "stderr",
          "text": [
            "\r 47%|████▋     | 7/15 [12:07<13:49, 103.72s/it]"
          ]
        },
        {
          "output_type": "stream",
          "name": "stdout",
          "text": [
            "Epoch 7\n"
          ]
        },
        {
          "output_type": "stream",
          "name": "stderr",
          "text": [
            "\r 53%|█████▎    | 8/15 [13:50<12:03, 103.38s/it]"
          ]
        },
        {
          "output_type": "stream",
          "name": "stdout",
          "text": [
            "Epoch 8\n"
          ]
        },
        {
          "output_type": "stream",
          "name": "stderr",
          "text": [
            "\r 60%|██████    | 9/15 [15:34<10:21, 103.57s/it]"
          ]
        },
        {
          "output_type": "stream",
          "name": "stdout",
          "text": [
            "Epoch 9\n"
          ]
        },
        {
          "output_type": "stream",
          "name": "stderr",
          "text": [
            "\r 67%|██████▋   | 10/15 [17:17<08:37, 103.57s/it]"
          ]
        },
        {
          "output_type": "stream",
          "name": "stdout",
          "text": [
            "Epoch 10\n"
          ]
        },
        {
          "output_type": "stream",
          "name": "stderr",
          "text": [
            "\r 73%|███████▎  | 11/15 [19:01<06:54, 103.60s/it]"
          ]
        },
        {
          "output_type": "stream",
          "name": "stdout",
          "text": [
            "Epoch 11\n"
          ]
        },
        {
          "output_type": "stream",
          "name": "stderr",
          "text": [
            "\r 80%|████████  | 12/15 [20:45<05:10, 103.61s/it]"
          ]
        },
        {
          "output_type": "stream",
          "name": "stdout",
          "text": [
            "Epoch 12\n"
          ]
        },
        {
          "output_type": "stream",
          "name": "stderr",
          "text": [
            "\r 87%|████████▋ | 13/15 [22:27<03:26, 103.26s/it]"
          ]
        },
        {
          "output_type": "stream",
          "name": "stdout",
          "text": [
            "Epoch 13\n"
          ]
        },
        {
          "output_type": "stream",
          "name": "stderr",
          "text": [
            "\r 93%|█████████▎| 14/15 [24:10<01:43, 103.23s/it]"
          ]
        },
        {
          "output_type": "stream",
          "name": "stdout",
          "text": [
            "Epoch 14\n"
          ]
        },
        {
          "output_type": "stream",
          "name": "stderr",
          "text": [
            "100%|██████████| 15/15 [25:54<00:00, 103.66s/it]\n"
          ]
        }
      ]
    },
    {
      "cell_type": "code",
      "source": [],
      "metadata": {
        "id": "TsE2Yz-QhXrA"
      },
      "execution_count": null,
      "outputs": []
    },
    {
      "cell_type": "code",
      "source": [
        "# Training The Second Layer\n",
        "print(\"Training the second layer\")\n",
        "if os.path.isfile(\"/content/saved_l2.net\"):\n",
        "    net.load_state_dict(torch.load(\"/content/saved_l2.net\"))"
      ],
      "metadata": {
        "execution": {
          "iopub.status.busy": "2023-09-12T16:06:03.673962Z",
          "iopub.execute_input": "2023-09-12T16:06:03.674417Z",
          "iopub.status.idle": "2023-09-12T16:33:33.398636Z",
          "shell.execute_reply.started": "2023-09-12T16:06:03.674380Z",
          "shell.execute_reply": "2023-09-12T16:33:33.397648Z"
        },
        "trusted": true,
        "colab": {
          "base_uri": "https://localhost:8080/"
        },
        "id": "lEBlcoB3hXrA",
        "outputId": "b7bb1e17-0e53-45c4-a095-3374e6bf4740"
      },
      "execution_count": 15,
      "outputs": [
        {
          "output_type": "stream",
          "name": "stdout",
          "text": [
            "Training the second layer\n"
          ]
        },
        {
          "output_type": "stream",
          "name": "stderr",
          "text": [
            "\r  0%|          | 0/10 [00:00<?, ?it/s]"
          ]
        },
        {
          "output_type": "stream",
          "name": "stdout",
          "text": [
            "Epoch 0\n"
          ]
        },
        {
          "output_type": "stream",
          "name": "stderr",
          "text": [
            "\r 10%|█         | 1/10 [02:56<26:30, 176.74s/it]"
          ]
        },
        {
          "output_type": "stream",
          "name": "stdout",
          "text": [
            "Epoch 1\n"
          ]
        },
        {
          "output_type": "stream",
          "name": "stderr",
          "text": [
            "\r 20%|██        | 2/10 [05:53<23:34, 176.86s/it]"
          ]
        },
        {
          "output_type": "stream",
          "name": "stdout",
          "text": [
            "Epoch 2\n"
          ]
        },
        {
          "output_type": "stream",
          "name": "stderr",
          "text": [
            "\r 30%|███       | 3/10 [08:50<20:36, 176.62s/it]"
          ]
        },
        {
          "output_type": "stream",
          "name": "stdout",
          "text": [
            "Epoch 3\n"
          ]
        },
        {
          "output_type": "stream",
          "name": "stderr",
          "text": [
            "\r 40%|████      | 4/10 [11:47<17:41, 176.88s/it]"
          ]
        },
        {
          "output_type": "stream",
          "name": "stdout",
          "text": [
            "Epoch 4\n"
          ]
        },
        {
          "output_type": "stream",
          "name": "stderr",
          "text": [
            "\r 50%|█████     | 5/10 [14:43<14:43, 176.77s/it]"
          ]
        },
        {
          "output_type": "stream",
          "name": "stdout",
          "text": [
            "Epoch 5\n"
          ]
        },
        {
          "output_type": "stream",
          "name": "stderr",
          "text": [
            "\r 60%|██████    | 6/10 [17:39<11:46, 176.54s/it]"
          ]
        },
        {
          "output_type": "stream",
          "name": "stdout",
          "text": [
            "Epoch 6\n"
          ]
        },
        {
          "output_type": "stream",
          "name": "stderr",
          "text": [
            "\r 70%|███████   | 7/10 [20:38<08:51, 177.30s/it]"
          ]
        },
        {
          "output_type": "stream",
          "name": "stdout",
          "text": [
            "Epoch 7\n"
          ]
        },
        {
          "output_type": "stream",
          "name": "stderr",
          "text": [
            "\r 80%|████████  | 8/10 [23:36<05:54, 177.42s/it]"
          ]
        },
        {
          "output_type": "stream",
          "name": "stdout",
          "text": [
            "Epoch 8\n"
          ]
        },
        {
          "output_type": "stream",
          "name": "stderr",
          "text": [
            "\r 90%|█████████ | 9/10 [26:32<02:57, 177.09s/it]"
          ]
        },
        {
          "output_type": "stream",
          "name": "stdout",
          "text": [
            "Epoch 9\n"
          ]
        },
        {
          "output_type": "stream",
          "name": "stderr",
          "text": [
            "100%|██████████| 10/10 [29:29<00:00, 176.94s/it]\n"
          ]
        }
      ]
    },
    {
      "cell_type": "code",
      "source": [
        "for epoch in tqdm(range(10)):\n",
        "    print(\"Epoch\", epoch)\n",
        "    for data,targets in CIFAR_loader:\n",
        "        train_unsupervise(net, data, 2)\n",
        "torch.save(net.state_dict(), \"saved_l2.net\")"
      ],
      "metadata": {
        "colab": {
          "base_uri": "https://localhost:8080/"
        },
        "id": "15A2Q9_L-ieu",
        "outputId": "3b9e20d6-54bf-403c-f5c4-ff50bd9d766d"
      },
      "execution_count": 30,
      "outputs": [
        {
          "output_type": "stream",
          "name": "stderr",
          "text": [
            "\r  0%|          | 0/10 [00:00<?, ?it/s]"
          ]
        },
        {
          "output_type": "stream",
          "name": "stdout",
          "text": [
            "Epoch 0\n"
          ]
        },
        {
          "output_type": "stream",
          "name": "stderr",
          "text": [
            "\r 10%|█         | 1/10 [02:57<26:38, 177.66s/it]"
          ]
        },
        {
          "output_type": "stream",
          "name": "stdout",
          "text": [
            "Epoch 1\n"
          ]
        },
        {
          "output_type": "stream",
          "name": "stderr",
          "text": [
            "\r 20%|██        | 2/10 [05:51<23:21, 175.18s/it]"
          ]
        },
        {
          "output_type": "stream",
          "name": "stdout",
          "text": [
            "Epoch 2\n"
          ]
        },
        {
          "output_type": "stream",
          "name": "stderr",
          "text": [
            "\r 30%|███       | 3/10 [08:44<20:19, 174.21s/it]"
          ]
        },
        {
          "output_type": "stream",
          "name": "stdout",
          "text": [
            "Epoch 3\n"
          ]
        },
        {
          "output_type": "stream",
          "name": "stderr",
          "text": [
            "\r 40%|████      | 4/10 [11:37<17:23, 173.92s/it]"
          ]
        },
        {
          "output_type": "stream",
          "name": "stdout",
          "text": [
            "Epoch 4\n"
          ]
        },
        {
          "output_type": "stream",
          "name": "stderr",
          "text": [
            "\r 50%|█████     | 5/10 [14:31<14:29, 173.95s/it]"
          ]
        },
        {
          "output_type": "stream",
          "name": "stdout",
          "text": [
            "Epoch 5\n"
          ]
        },
        {
          "output_type": "stream",
          "name": "stderr",
          "text": [
            "\r 60%|██████    | 6/10 [17:25<11:35, 173.77s/it]"
          ]
        },
        {
          "output_type": "stream",
          "name": "stdout",
          "text": [
            "Epoch 6\n"
          ]
        },
        {
          "output_type": "stream",
          "name": "stderr",
          "text": [
            "\r 70%|███████   | 7/10 [20:18<08:40, 173.58s/it]"
          ]
        },
        {
          "output_type": "stream",
          "name": "stdout",
          "text": [
            "Epoch 7\n"
          ]
        },
        {
          "output_type": "stream",
          "name": "stderr",
          "text": [
            "\r 80%|████████  | 8/10 [23:09<05:45, 172.77s/it]"
          ]
        },
        {
          "output_type": "stream",
          "name": "stdout",
          "text": [
            "Epoch 8\n"
          ]
        },
        {
          "output_type": "stream",
          "name": "stderr",
          "text": [
            "\r 90%|█████████ | 9/10 [26:01<02:52, 172.75s/it]"
          ]
        },
        {
          "output_type": "stream",
          "name": "stdout",
          "text": [
            "Epoch 9\n"
          ]
        },
        {
          "output_type": "stream",
          "name": "stderr",
          "text": [
            "100%|██████████| 10/10 [28:52<00:00, 173.26s/it]\n"
          ]
        }
      ]
    },
    {
      "cell_type": "code",
      "source": [
        "# initial adaptive learning rates\n",
        "apr = net.stdp3.learning_rate[0][0].item()\n",
        "anr = net.stdp3.learning_rate[0][1].item()\n",
        "app = net.anti_stdp3.learning_rate[0][1].item()\n",
        "anp = net.anti_stdp3.learning_rate[0][0].item()"
      ],
      "metadata": {
        "execution": {
          "iopub.status.busy": "2023-09-12T16:33:33.400183Z",
          "iopub.execute_input": "2023-09-12T16:33:33.401971Z",
          "iopub.status.idle": "2023-09-12T16:33:33.407936Z",
          "shell.execute_reply.started": "2023-09-12T16:33:33.401935Z",
          "shell.execute_reply": "2023-09-12T16:33:33.406868Z"
        },
        "trusted": true,
        "id": "chlrvXukhXrA"
      },
      "execution_count": 16,
      "outputs": []
    },
    {
      "cell_type": "code",
      "source": [
        "adaptive_min = 0.0\n",
        "adaptive_int = 1.0"
      ],
      "metadata": {
        "execution": {
          "iopub.status.busy": "2023-09-12T16:33:33.410376Z",
          "iopub.execute_input": "2023-09-12T16:33:33.410952Z",
          "iopub.status.idle": "2023-09-12T16:33:33.422015Z",
          "shell.execute_reply.started": "2023-09-12T16:33:33.410919Z",
          "shell.execute_reply": "2023-09-12T16:33:33.420732Z"
        },
        "trusted": true,
        "id": "Ku5Y9Yd3hXrB"
      },
      "execution_count": 17,
      "outputs": []
    },
    {
      "cell_type": "code",
      "source": [
        "apr_adapt = ((1.0 - 1.0 / 10) * adaptive_int + adaptive_min) * apr\n",
        "anr_adapt = ((1.0 - 1.0 / 10) * adaptive_int + adaptive_min) * anr\n",
        "app_adapt = ((1.0 / 10) * adaptive_int + adaptive_min) * app\n",
        "anp_adapt = ((1.0 / 10) * adaptive_int + adaptive_min) * anp"
      ],
      "metadata": {
        "execution": {
          "iopub.status.busy": "2023-09-12T16:33:33.423283Z",
          "iopub.execute_input": "2023-09-12T16:33:33.423791Z",
          "iopub.status.idle": "2023-09-12T16:33:33.434594Z",
          "shell.execute_reply.started": "2023-09-12T16:33:33.423757Z",
          "shell.execute_reply": "2023-09-12T16:33:33.433623Z"
        },
        "trusted": true,
        "id": "9dAhsHGmhXrB"
      },
      "execution_count": 18,
      "outputs": []
    },
    {
      "cell_type": "code",
      "source": [
        "# perf\n",
        "best_train = np.array([0.0,0.0,0.0,0.0]) # correct, wrong, sile, epoch\n",
        "best_test = np.array([0.0,0.0,0.0,0.0]) # correct, wrong, silence, epoch"
      ],
      "metadata": {
        "execution": {
          "iopub.status.busy": "2023-09-12T16:33:33.436096Z",
          "iopub.execute_input": "2023-09-12T16:33:33.436465Z",
          "iopub.status.idle": "2023-09-12T16:33:33.447824Z",
          "shell.execute_reply.started": "2023-09-12T16:33:33.436434Z",
          "shell.execute_reply": "2023-09-12T16:33:33.446783Z"
        },
        "trusted": true,
        "id": "5dMCdFKyhXrB"
      },
      "execution_count": 19,
      "outputs": []
    },
    {
      "cell_type": "code",
      "source": [
        "if os.path.isfile(\"/content/saved.net\"):\n",
        "    net.load_state_dict(torch.load(\"/content/saved.net\"))"
      ],
      "metadata": {
        "execution": {
          "iopub.status.busy": "2023-09-12T16:33:33.448837Z",
          "iopub.execute_input": "2023-09-12T16:33:33.449086Z",
          "iopub.status.idle": "2023-09-12T16:33:33.733396Z",
          "shell.execute_reply.started": "2023-09-12T16:33:33.449063Z",
          "shell.execute_reply": "2023-09-12T16:33:33.732339Z"
        },
        "trusted": true,
        "id": "UkN2Kon0hXrB"
      },
      "execution_count": 20,
      "outputs": []
    },
    {
      "cell_type": "code",
      "source": [
        "# Training The Third Layer\n",
        "print(\"Training the third layer\")\n",
        "for epoch in tqdm(range(3)):\n",
        "    print(\"Epoch #:\", epoch)\n",
        "    perf_train = np.array([0.0,0.0,0.0])\n",
        "    perf_test = np.array([0.0,0.0,0.0])\n",
        "    for data,targets in CIFAR_loader:\n",
        "        perf_train_batch = train_rl(net, data, targets)\n",
        "#         print(perf_train_batch)\n",
        "        # update adaptive learning rates\n",
        "        apr_adapt = apr * (perf_train_batch[1] * adaptive_int + adaptive_min)\n",
        "        anr_adapt = anr * (perf_train_batch[1] * adaptive_int + adaptive_min)\n",
        "        app_adapt = app * (perf_train_batch[0] * adaptive_int + adaptive_min)\n",
        "        anp_adapt = anp * (perf_train_batch[0] * adaptive_int + adaptive_min)\n",
        "        net.update_learning_rates(apr_adapt, anr_adapt, app_adapt, anp_adapt)\n",
        "        perf_train += perf_train_batch\n",
        "    perf_train /= len(CIFAR_loader)\n",
        "    if best_train[0] <= perf_train[0]:\n",
        "        best_train = np.append(perf_train, epoch)\n",
        "    print(\"Current Train:\", perf_train)\n",
        "    print(\"   Best Train:\", best_train)\n",
        "\n",
        "    for data,targets in CIFAR_testLoader:\n",
        "        perf_test += test(net, data, targets)\n",
        "    perf_test /= len(CIFAR_testLoader)\n",
        "    if best_test[0] <= perf_test[0]:\n",
        "        best_test = np.append(perf_test, epoch)\n",
        "        torch.save(net.state_dict(), \"saved.net\")\n",
        "    print(\" Current Test:\", perf_test)\n",
        "#     print(\"    Best Test:\", best_test)"
      ],
      "metadata": {
        "trusted": true,
        "colab": {
          "base_uri": "https://localhost:8080/"
        },
        "id": "dvKacc9IhXrC",
        "outputId": "b0a3a448-392e-4679-b64f-7bcf3364031e"
      },
      "execution_count": 35,
      "outputs": [
        {
          "output_type": "stream",
          "name": "stdout",
          "text": [
            "Training the third layer\n"
          ]
        },
        {
          "output_type": "stream",
          "name": "stderr",
          "text": [
            "\r  0%|          | 0/3 [00:00<?, ?it/s]"
          ]
        },
        {
          "output_type": "stream",
          "name": "stdout",
          "text": [
            "Epoch #: 0\n",
            "Current Train: [0.50908 0.49092 0.     ]\n",
            "   Best Train: [0.50938 0.49062 0.      7.     ]\n"
          ]
        },
        {
          "output_type": "stream",
          "name": "stderr",
          "text": [
            "\r 33%|███▎      | 1/3 [02:22<04:44, 142.03s/it]"
          ]
        },
        {
          "output_type": "stream",
          "name": "stdout",
          "text": [
            " Current Test: [0.3838 0.6162 0.    ]\n",
            "Epoch #: 1\n",
            "Current Train: [0.5096 0.4904 0.    ]\n",
            "   Best Train: [0.5096 0.4904 0.     1.    ]\n"
          ]
        },
        {
          "output_type": "stream",
          "name": "stderr",
          "text": [
            "\r 67%|██████▋   | 2/3 [04:38<02:18, 138.82s/it]"
          ]
        },
        {
          "output_type": "stream",
          "name": "stdout",
          "text": [
            " Current Test: [0.3866 0.6134 0.    ]\n",
            "Epoch #: 2\n",
            "Current Train: [0.51024 0.48976 0.     ]\n",
            "   Best Train: [0.51024 0.48976 0.      2.     ]\n"
          ]
        },
        {
          "output_type": "stream",
          "name": "stderr",
          "text": [
            "100%|██████████| 3/3 [06:54<00:00, 138.15s/it]"
          ]
        },
        {
          "output_type": "stream",
          "name": "stdout",
          "text": [
            " Current Test: [0.3863 0.6137 0.    ]\n"
          ]
        },
        {
          "output_type": "stream",
          "name": "stderr",
          "text": [
            "\n"
          ]
        }
      ]
    },
    {
      "cell_type": "code",
      "source": [],
      "metadata": {
        "id": "GOq2CBzyhXrC"
      },
      "execution_count": null,
      "outputs": []
    },
    {
      "cell_type": "code",
      "source": [],
      "metadata": {
        "id": "lbHuxkdghXrC"
      },
      "execution_count": null,
      "outputs": []
    }
  ]
}