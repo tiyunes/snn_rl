{
  "cells": [
    {
      "cell_type": "code",
      "source": [
        "!pip install nengo\n",
        "!pip install nengo_ocl"
      ],
      "metadata": {
        "colab": {
          "base_uri": "https://localhost:8080/"
        },
        "id": "pR8ye2gJSbcP",
        "outputId": "e7dcf562-2103-45e9-beb0-329f1c8dd5f1"
      },
      "execution_count": null,
      "outputs": [
        {
          "output_type": "stream",
          "name": "stdout",
          "text": [
            "Requirement already satisfied: nengo in /usr/local/lib/python3.10/dist-packages (4.0.0)\n",
            "Requirement already satisfied: numpy>=1.19 in /usr/local/lib/python3.10/dist-packages (from nengo) (1.23.5)\n",
            "Requirement already satisfied: nengo_ocl in /usr/local/lib/python3.10/dist-packages (3.0.0)\n",
            "Requirement already satisfied: nengo>=3.1.0 in /usr/local/lib/python3.10/dist-packages (from nengo_ocl) (4.0.0)\n",
            "Requirement already satisfied: mako in /usr/local/lib/python3.10/dist-packages (from nengo_ocl) (1.3.0)\n",
            "Requirement already satisfied: pyopencl in /usr/local/lib/python3.10/dist-packages (from nengo_ocl) (2023.1.4)\n",
            "Requirement already satisfied: numpy>=1.19 in /usr/local/lib/python3.10/dist-packages (from nengo>=3.1.0->nengo_ocl) (1.23.5)\n",
            "Requirement already satisfied: MarkupSafe>=0.9.2 in /usr/local/lib/python3.10/dist-packages (from mako->nengo_ocl) (2.1.3)\n",
            "Requirement already satisfied: pytools>=2021.2.7 in /usr/local/lib/python3.10/dist-packages (from pyopencl->nengo_ocl) (2023.1.1)\n",
            "Requirement already satisfied: platformdirs>=2.2.0 in /usr/local/lib/python3.10/dist-packages (from pyopencl->nengo_ocl) (4.0.0)\n",
            "Requirement already satisfied: typing-extensions>=4.0 in /usr/local/lib/python3.10/dist-packages (from pytools>=2021.2.7->pyopencl->nengo_ocl) (4.5.0)\n"
          ]
        }
      ]
    },
    {
      "cell_type": "code",
      "execution_count": null,
      "metadata": {
        "id": "0Ltc2JuSSU-U"
      },
      "outputs": [],
      "source": [
        "import nengo\n",
        "# import nengo_ocl\n",
        "import numpy as np\n",
        "import matplotlib.pyplot as plt\n",
        "import gym\n",
        "from nengo.utils.matplotlib import rasterplot"
      ]
    },
    {
      "cell_type": "code",
      "execution_count": null,
      "metadata": {
        "colab": {
          "base_uri": "https://localhost:8080/",
          "height": 75
        },
        "id": "Mosl8pRRSU-X",
        "outputId": "1970b579-d0a9-4b8e-c1f4-91a4df053935"
      },
      "outputs": [
        {
          "data": {
            "application/vdom.v1+json": {
              "attributes": {},
              "tagName": "div"
            },
            "text/html": [
              "\n",
              "                <script>\n",
              "                    if (Jupyter.version.split(\".\")[0] < 5) {\n",
              "                        var pb = document.getElementById(\"d711d891-b792-43c4-91d2-2c2ca71d9891\");\n",
              "                        var text = document.createTextNode(\n",
              "                            \"HTML progress bar requires Jupyter Notebook >= \" +\n",
              "                            \"5.0 or Jupyter Lab. Alternatively, you can use \" +\n",
              "                            \"TerminalProgressBar().\");\n",
              "                        pb.parentNode.insertBefore(text, pb);\n",
              "                    }\n",
              "                </script>\n",
              "                <div id=\"d711d891-b792-43c4-91d2-2c2ca71d9891\" style=\"\n",
              "                    width: 100%;\n",
              "                    border: 1px solid #cfcfcf;\n",
              "                    border-radius: 4px;\n",
              "                    text-align: center;\n",
              "                    position: relative;\">\n",
              "                  <div class=\"pb-text\" style=\"\n",
              "                      position: absolute;\n",
              "                      width: 100%;\">\n",
              "                    0%\n",
              "                  </div>\n",
              "                  <div class=\"pb-fill\" style=\"\n",
              "                      background-color: #bdd2e6;\n",
              "                      width: 0%;\">\n",
              "                    <style type=\"text/css\" scoped=\"scoped\">\n",
              "                        @keyframes pb-fill-anim {\n",
              "                            0% { background-position: 0 0; }\n",
              "                            100% { background-position: 100px 0; }\n",
              "                        }\n",
              "                    </style>\n",
              "                    &nbsp;\n",
              "                  </div>\n",
              "                </div>"
            ],
            "text/plain": [
              "HtmlProgressBar cannot be displayed. Please use the TerminalProgressBar. It can be enabled with `nengo.rc['progress']['progress_bar'] = 'nengo.utils.progress.TerminalProgressBar'`."
            ]
          },
          "metadata": {},
          "output_type": "display_data"
        },
        {
          "data": {
            "application/vdom.v1+json": {
              "attributes": {
                "id": "8cb631cd-6331-4311-94b4-e4244b836ffe",
                "style": {
                  "border": "1px solid #cfcfcf",
                  "borderRadius": "4px",
                  "boxSizing": "border-box",
                  "position": "relative",
                  "textAlign": "center",
                  "width": "100%"
                }
              },
              "children": [
                {
                  "attributes": {
                    "class": "pb-text",
                    "style": {
                      "position": "absolute",
                      "width": "100%"
                    }
                  },
                  "children": [
                    "Build finished in 0:00:01."
                  ],
                  "tagName": "div"
                },
                {
                  "attributes": {
                    "class": "pb-fill",
                    "style": {
                      "animation": "none",
                      "backgroundColor": "#bdd2e6",
                      "backgroundImage": "none",
                      "backgroundSize": "100px 100%",
                      "width": "100%"
                    }
                  },
                  "children": [
                    {
                      "attributes": {
                        "scoped": "scoped",
                        "type": "text/css"
                      },
                      "children": [
                        "\n                        @keyframes pb-fill-anim {\n                            0% { background-position: 0 0; }\n                            100% { background-position: 100px 0; }\n                        }}"
                      ],
                      "tagName": "style"
                    },
                    " "
                  ],
                  "tagName": "div"
                }
              ],
              "tagName": "div"
            },
            "text/html": [
              "<script>\n",
              "              (function () {\n",
              "                  var root = document.getElementById('d711d891-b792-43c4-91d2-2c2ca71d9891');\n",
              "                  var text = root.getElementsByClassName('pb-text')[0];\n",
              "                  var fill = root.getElementsByClassName('pb-fill')[0];\n",
              "\n",
              "                  text.innerHTML = 'Build finished in 0:00:01.';\n",
              "                  \n",
              "            fill.style.width = '100%';\n",
              "            fill.style.animation = 'pb-fill-anim 2s linear infinite';\n",
              "            fill.style.backgroundSize = '100px 100%';\n",
              "            fill.style.backgroundImage = 'repeating-linear-gradient(' +\n",
              "                '90deg, #bdd2e6, #edf2f8 40%, #bdd2e6 80%, #bdd2e6)';\n",
              "        \n",
              "                  \n",
              "                fill.style.animation = 'none';\n",
              "                fill.style.backgroundImage = 'none';\n",
              "            \n",
              "              })();\n",
              "        </script>"
            ]
          },
          "metadata": {},
          "output_type": "display_data"
        },
        {
          "data": {
            "application/vdom.v1+json": {
              "attributes": {},
              "tagName": "div"
            },
            "text/html": [
              "\n",
              "                <script>\n",
              "                    if (Jupyter.version.split(\".\")[0] < 5) {\n",
              "                        var pb = document.getElementById(\"aa21feb6-bcba-4a88-8742-4d315e0e4bf7\");\n",
              "                        var text = document.createTextNode(\n",
              "                            \"HTML progress bar requires Jupyter Notebook >= \" +\n",
              "                            \"5.0 or Jupyter Lab. Alternatively, you can use \" +\n",
              "                            \"TerminalProgressBar().\");\n",
              "                        pb.parentNode.insertBefore(text, pb);\n",
              "                    }\n",
              "                </script>\n",
              "                <div id=\"aa21feb6-bcba-4a88-8742-4d315e0e4bf7\" style=\"\n",
              "                    width: 100%;\n",
              "                    border: 1px solid #cfcfcf;\n",
              "                    border-radius: 4px;\n",
              "                    text-align: center;\n",
              "                    position: relative;\">\n",
              "                  <div class=\"pb-text\" style=\"\n",
              "                      position: absolute;\n",
              "                      width: 100%;\">\n",
              "                    0%\n",
              "                  </div>\n",
              "                  <div class=\"pb-fill\" style=\"\n",
              "                      background-color: #bdd2e6;\n",
              "                      width: 0%;\">\n",
              "                    <style type=\"text/css\" scoped=\"scoped\">\n",
              "                        @keyframes pb-fill-anim {\n",
              "                            0% { background-position: 0 0; }\n",
              "                            100% { background-position: 100px 0; }\n",
              "                        }\n",
              "                    </style>\n",
              "                    &nbsp;\n",
              "                  </div>\n",
              "                </div>"
            ],
            "text/plain": [
              "HtmlProgressBar cannot be displayed. Please use the TerminalProgressBar. It can be enabled with `nengo.rc['progress']['progress_bar'] = 'nengo.utils.progress.TerminalProgressBar'`."
            ]
          },
          "metadata": {},
          "output_type": "display_data"
        },
        {
          "data": {
            "application/vdom.v1+json": {
              "attributes": {
                "id": "fd9d6594-4b67-4c2b-a493-1c8ac14b0bdb",
                "style": {
                  "border": "1px solid #cfcfcf",
                  "borderRadius": "4px",
                  "boxSizing": "border-box",
                  "position": "relative",
                  "textAlign": "center",
                  "width": "100%"
                }
              },
              "children": [
                {
                  "attributes": {
                    "class": "pb-text",
                    "style": {
                      "position": "absolute",
                      "width": "100%"
                    }
                  },
                  "children": [
                    "Simulating… 97%, ETA: 0:00:37"
                  ],
                  "tagName": "div"
                },
                {
                  "attributes": {
                    "class": "pb-fill",
                    "style": {
                      "animation": "none",
                      "backgroundColor": "#bdd2e6",
                      "backgroundImage": "none",
                      "transition": "width 0.1s linear",
                      "width": "97%"
                    }
                  },
                  "children": [
                    {
                      "attributes": {
                        "scoped": "scoped",
                        "type": "text/css"
                      },
                      "children": [
                        "\n                        @keyframes pb-fill-anim {\n                            0% { background-position: 0 0; }\n                            100% { background-position: 100px 0; }\n                        }}"
                      ],
                      "tagName": "style"
                    },
                    " "
                  ],
                  "tagName": "div"
                }
              ],
              "tagName": "div"
            },
            "text/html": [
              "<script>\n",
              "              (function () {\n",
              "                  var root = document.getElementById('aa21feb6-bcba-4a88-8742-4d315e0e4bf7');\n",
              "                  var text = root.getElementsByClassName('pb-text')[0];\n",
              "                  var fill = root.getElementsByClassName('pb-fill')[0];\n",
              "\n",
              "                  text.innerHTML = 'Simulating&hellip; 97%, ETA: 0:00:37';\n",
              "                  \n",
              "            if (96.65175 > 0.) {\n",
              "                fill.style.transition = 'width 0.1s linear';\n",
              "            } else {\n",
              "                fill.style.transition = 'none';\n",
              "            }\n",
              "\n",
              "            fill.style.width = '96.65175%';\n",
              "            fill.style.animation = 'none';\n",
              "            fill.style.backgroundImage = 'none'\n",
              "        \n",
              "                  \n",
              "              })();\n",
              "        </script>"
            ]
          },
          "metadata": {},
          "output_type": "display_data"
        },
        {
          "output_type": "display_data",
          "data": {
            "application/vdom.v1+json": {
              "tagName": "div",
              "attributes": {
                "id": "fd9d6594-4b67-4c2b-a493-1c8ac14b0bdb",
                "style": {
                  "width": "100%",
                  "boxSizing": "border-box",
                  "border": "1px solid #cfcfcf",
                  "borderRadius": "4px",
                  "textAlign": "center",
                  "position": "relative"
                }
              },
              "children": [
                {
                  "tagName": "div",
                  "attributes": {
                    "class": "pb-text",
                    "style": {
                      "position": "absolute",
                      "width": "100%"
                    }
                  },
                  "children": [
                    "Simulation finished in 0:17:58."
                  ]
                },
                {
                  "tagName": "div",
                  "attributes": {
                    "class": "pb-fill",
                    "style": {
                      "width": "100%",
                      "animation": "none",
                      "backgroundColor": "#bdd2e6",
                      "backgroundImage": "none",
                      "transition": "width 0.1s linear"
                    }
                  },
                  "children": [
                    {
                      "tagName": "style",
                      "attributes": {
                        "type": "text/css",
                        "scoped": "scoped"
                      },
                      "children": [
                        "\n                        @keyframes pb-fill-anim {\n                            0% { background-position: 0 0; }\n                            100% { background-position: 100px 0; }\n                        }}"
                      ]
                    },
                    " "
                  ]
                }
              ]
            },
            "text/html": [
              "<script>\n",
              "              (function () {\n",
              "                  var root = document.getElementById('aa21feb6-bcba-4a88-8742-4d315e0e4bf7');\n",
              "                  var text = root.getElementsByClassName('pb-text')[0];\n",
              "                  var fill = root.getElementsByClassName('pb-fill')[0];\n",
              "\n",
              "                  text.innerHTML = 'Simulation finished in 0:17:58.';\n",
              "                  \n",
              "            if (100.0 > 0.) {\n",
              "                fill.style.transition = 'width 0.1s linear';\n",
              "            } else {\n",
              "                fill.style.transition = 'none';\n",
              "            }\n",
              "\n",
              "            fill.style.width = '100.0%';\n",
              "            fill.style.animation = 'none';\n",
              "            fill.style.backgroundImage = 'none'\n",
              "        \n",
              "                  \n",
              "                fill.style.animation = 'none';\n",
              "                fill.style.backgroundImage = 'none';\n",
              "            \n",
              "              })();\n",
              "        </script>"
            ]
          },
          "metadata": {}
        }
      ],
      "source": [
        "np.random.seed(0)\n",
        "\n",
        "# master class that performs environment interaction and learning\n",
        "class Master():\n",
        "    def __init__(self,\n",
        "                 env_name,\n",
        "                 n_actor,\n",
        "                 n_critic,\n",
        "                 n_place,\n",
        "                 dt,\n",
        "                 V_0,\n",
        "                 v,\n",
        "                 tau_r,\n",
        "                 stepSize=1,\n",
        "                 actor_lr=0.05,\n",
        "                 critic_lr=0.2):\n",
        "\n",
        "        # gym\n",
        "        self.env = gym.make(env_name)\n",
        "        self.env.seed(0)\n",
        "        if type(self.env.action_space) == gym.spaces.discrete.Discrete:\n",
        "            self.action_dim = self.env.action_space.n\n",
        "            self.discrete_actions = True\n",
        "        else:\n",
        "            self.action_dim = self.env.action_space.shape[0]\n",
        "            self.discrete_actions = False\n",
        "\n",
        "        if env_name == 'Pendulum-v1':\n",
        "            self.F_max = 2\n",
        "            self.actor_directions = 2 * self.F_max * np.arange(n_actor) / n_actor - self.F_max\n",
        "            self.min_reward = -16.2736044\n",
        "\n",
        "        self.state_dim = self.env.observation_space.shape[0]\n",
        "        self.stepsize = stepSize\n",
        "        self.dt = dt\n",
        "        self.state = self.env.reset()\n",
        "        self.reward = 0\n",
        "        self.done = False\n",
        "        self.reward_history = []\n",
        "        self.totalReward = 0\n",
        "        self.max_steps = 150\n",
        "        self.step_num = 0\n",
        "\n",
        "        self.V_0 = V_0\n",
        "        self.v = v\n",
        "        self.tau_r = tau_r\n",
        "        self.actor_lr = actor_lr\n",
        "        self.critic_lr = critic_lr\n",
        "        # self.place_actor_weights = np.load('cache/place_actor_weights.npy')\n",
        "        # self.place_critic_weights = np.load('cache/place_critic_weights.npy')\n",
        "        self.place_actor_weights = np.random.normal(loc=0.5, scale=0.1, size=(n_actor, n_place))\n",
        "        self.place_critic_weights = np.random.normal(loc=0.5, scale=0.1, size=(n_critic, n_place))\n",
        "        self.w_min = 0\n",
        "        self.w_max = 3\n",
        "\n",
        "    def step(self, t, action):\n",
        "        if int(t / self.dt) % self.stepsize != 0:\n",
        "            return\n",
        "        self.step_num += 1\n",
        "#         self.env.render()\n",
        "        self.state, self.reward, self.done, _ = self.env.step(action)\n",
        "        self.totalReward += self.reward\n",
        "        # if self.step_num == self.max_steps:\n",
        "        if self.done:\n",
        "#             self.reward = -2 # penalize end of episode\n",
        "            self.totalReward += self.reward\n",
        "            self.reward_history.append(self.totalReward)\n",
        "            self.state = self.env.reset()\n",
        "            self.totalReward = 0\n",
        "            self.step_num = 0\n",
        "\n",
        "    def sensor(self,t):\n",
        "        return self.state\n",
        "\n",
        "    def calc_td_error(self, t, critic_rates):\n",
        "#         print('td', critic_rates)\n",
        "        return self.v * np.mean(critic_rates*self.dt) - self.V_0/self.tau_r + self.reward\n",
        "\n",
        "    def outer(self, t, x):\n",
        "        X_conv_eps = x[:n_place]* self.dt\n",
        "        Y = x[n_place:]* self.dt\n",
        "#         print('outer', X_conv_eps, Y)\n",
        "        return np.outer(Y, X_conv_eps).flatten()\n",
        "\n",
        "    def actor(self, t, x):\n",
        "        dVdw = x[:n_place * n_actor].reshape(n_actor, n_place)\n",
        "        place_spikes = x[n_place * n_actor:-1] * self.dt\n",
        "        td_error = x[-1]\n",
        "        self.place_actor_weights += self.actor_lr * td_error * dVdw\n",
        "        self.place_actor_weights = np.clip(self.place_actor_weights, a_min=self.w_min, a_max=self.w_max)\n",
        "#         print('actor', np.dot(self.place_actor_weights, place_spikes))\n",
        "#         print('actor', self.place_actor_weights, place_spikes)\n",
        "        return np.dot(self.place_actor_weights, place_spikes)\n",
        "\n",
        "    def critic(self, t, x):\n",
        "        dVdw = x[:n_place * n_critic].reshape(n_critic, n_place)\n",
        "        place_spikes = x[n_place * n_critic:-1] * self.dt\n",
        "        td_error = x[-1]\n",
        "        self.place_critic_weights += self.critic_lr * td_error * dVdw\n",
        "        self.place_critic_weights = np.clip(self.place_critic_weights, a_min=self.w_min, a_max=self.w_max)\n",
        "\n",
        "        return np.dot(self.place_critic_weights, place_spikes)\n",
        "\n",
        "    def select_action(self, t, actor_rates):\n",
        "#         return self.actor_directions[np.argmax(actor_rates)]\n",
        "#         print(actor_rates)\n",
        "        rate_sum = np.sum(actor_rates*self.dt)\n",
        "        if rate_sum == 0: return 0\n",
        "        return np.dot(actor_rates*self.dt, self.actor_directions) / rate_sum\n",
        "\n",
        "    def calc_value(self, t, critic_rates):\n",
        "        return self.v * np.mean(critic_rates*self.dt) + self.V_0\n",
        "\n",
        "# v = 2\n",
        "# V_0 = -40\n",
        "V_0 = -16\n",
        "v = 30\n",
        "tau_r = 4 # reward time constant\n",
        "v_k = 50e-3\n",
        "tau_k = 200e-3\n",
        "eps_0 = 20e-3\n",
        "tau_m = 20e-3\n",
        "tau_s = 5e-3\n",
        "tau_gamma = 50e-3\n",
        "v_gamma = 20e-3\n",
        "\n",
        "dt = 1e-3\n",
        "n_actor = 40\n",
        "n_critic = 50\n",
        "n_place = 100\n",
        "place_radius = 5\n",
        "actor_radius = 2\n",
        "critic_radius = 8\n",
        "\n",
        "stepSize = 1\n",
        "actor_lr = 0.05\n",
        "critic_lr = 0.2\n",
        "\n",
        "lateral_sigma = 3\n",
        "lateral_inhibition = 0.1\n",
        "\n",
        "actor_lambda = 0.5\n",
        "w_plus = 30\n",
        "w_minus = -60\n",
        "lateral_stability_const = (n_actor/actor_lambda/2)**2\n",
        "\n",
        "# env_name = 'CartPole-v0'\n",
        "# env_name = 'MountainCarContinuous-v0'\n",
        "env_name = 'Pendulum-v1'\n",
        "master = Master(\n",
        "    env_name=env_name,\n",
        "    n_actor=n_actor,\n",
        "    n_critic=n_critic,\n",
        "    n_place=n_place,\n",
        "    dt=dt,\n",
        "    V_0=V_0,\n",
        "    v=v,\n",
        "    tau_r=tau_r,\n",
        "    stepSize=stepSize,\n",
        "    actor_lr=actor_lr,\n",
        "    critic_lr=critic_lr\n",
        ")\n",
        "model = nengo.Network(seed=0)\n",
        "\n",
        "\n",
        "with model:\n",
        "    state_node = nengo.Node(output=master.sensor)\n",
        "    place = nengo.Ensemble(n_neurons=n_place,\n",
        "                           dimensions=master.state_dim,\n",
        "                           radius=place_radius)\n",
        "    nengo.Connection(state_node, place)\n",
        "\n",
        "    #####################################################\n",
        "\n",
        "    actor = nengo.Ensemble(n_neurons=n_actor,\n",
        "                           dimensions=master.action_dim,\n",
        "                           radius=actor_radius)\n",
        "\n",
        "\n",
        "#     paper lateral actor connections\n",
        "#     lateral_weight_denom = 2*np.sum([\n",
        "#         np.exp((k/actor_lambda)**2 - lateral_stability_const)\n",
        "#         for k in range(1, int(n_actor/2))\n",
        "#     ])\n",
        "#     print('d',lateral_weight_denom)\n",
        "#     for k in range(n_actor):\n",
        "#         for k_p in range(n_actor):\n",
        "#             if k == k_p: continue\n",
        "#             lateral_weight = w_minus/n_actor \\\n",
        "#                 + w_plus * np.exp(((k - k_p)/actor_lambda)**2 - lateral_stability_const) / lateral_weight_denom\n",
        "#             print('w',lateral_weight)\n",
        "#             if lateral_weight == 0: continue\n",
        "#             nengo.Connection(actor.neurons[k],\n",
        "#                              actor.neurons[k_p],\n",
        "#                              transform=[lateral_weight])\n",
        "\n",
        "#   gaussian lateral actor connections\n",
        "    lateral_weights = np.zeros((n_actor, n_actor))\n",
        "    for k in range(n_actor):\n",
        "        for k_p in range(n_actor):\n",
        "            if k == k_p: continue # no self connection\n",
        "            lateral_weight = (1+lateral_inhibition)*np.exp(-((k - k_p)/lateral_sigma)**2) - lateral_inhibition\n",
        "            lateral_weights[k,k_p] = lateral_weight\n",
        "    nengo.Connection(actor.neurons, actor.neurons, transform=lateral_weights)\n",
        "\n",
        "    actor_outer = nengo.Node(master.outer,\n",
        "                            size_in=n_place + n_actor,\n",
        "                            size_out=n_place * n_actor)\n",
        "    # convolve place spikes with epsilon\n",
        "    nengo.Connection(place.neurons,\n",
        "                     actor_outer[:n_place],\n",
        "                     synapse=tau_m,\n",
        "                     transform=((eps_0 * tau_m) / (tau_m - tau_s)))\n",
        "    nengo.Connection(place.neurons,\n",
        "                     actor_outer[:n_place],\n",
        "                     synapse=tau_s,\n",
        "                     transform=-((eps_0 * tau_s) / (tau_m - tau_s)))\n",
        "    # Pass raw actor spikes into actor_outer\n",
        "    nengo.Connection(actor.neurons, actor_outer[n_place:], synapse=None)\n",
        "\n",
        "    actor_learn = nengo.Node(master.actor,\n",
        "                            size_in=n_place * n_actor + n_place + 1,\n",
        "                            size_out=n_actor)\n",
        "    # convolve actor_outer output with k / tau_r\n",
        "    nengo.Connection(actor_outer,\n",
        "                     actor_learn[:n_place * n_actor],\n",
        "                     synapse=tau_k,\n",
        "                     transform=tau_k/((tau_k - v_k)*tau_r))\n",
        "    nengo.Connection(actor_outer,\n",
        "                     actor_learn[:n_place * n_actor],\n",
        "                     synapse=v_k,\n",
        "                     transform=(-v_k)/((tau_k - v_k)*tau_r))\n",
        "    # Pass convolved place spikes with epsilon into actor_learn\n",
        "    nengo.Connection(place.neurons,\n",
        "                     actor_learn[n_place * n_actor:-1],\n",
        "                     synapse=tau_m,\n",
        "                     transform=((eps_0 * tau_m) / (tau_m - tau_s)))\n",
        "    nengo.Connection(place.neurons,\n",
        "                     actor_learn[n_place * n_actor:-1],\n",
        "                     synapse=tau_s,\n",
        "                     transform=-((eps_0 * tau_s) / (tau_m - tau_s)))\n",
        "\n",
        "    # connect actor_learn to actor neurons\n",
        "    nengo.Connection(actor_learn, actor.neurons, synapse=None)\n",
        "\n",
        "    action_selection_node = nengo.Node(output=master.select_action, size_in=n_actor)\n",
        "    nengo.Connection(actor.neurons,\n",
        "                     action_selection_node,\n",
        "                     synapse=tau_gamma,\n",
        "                     transform=tau_gamma/(tau_gamma - v_gamma))\n",
        "    nengo.Connection(actor.neurons,\n",
        "                     action_selection_node,\n",
        "                     synapse=v_gamma,\n",
        "                     transform=(-v_gamma)/(tau_gamma - v_gamma))\n",
        "\n",
        "    step_node = nengo.Node(output=master.step, size_in=master.action_dim)\n",
        "    nengo.Connection(action_selection_node, step_node, synapse=None)\n",
        "\n",
        "    #####################################################\n",
        "\n",
        "    critic = nengo.Ensemble(n_neurons=n_critic,\n",
        "                            dimensions=1,\n",
        "                            radius=critic_radius)\n",
        "\n",
        "    critic_outer = nengo.Node(master.outer,\n",
        "                              size_in=n_place + n_critic,\n",
        "                              size_out=n_place * n_critic)\n",
        "    # convolve place spikes with epsilon\n",
        "    nengo.Connection(place.neurons,\n",
        "                     critic_outer[:n_place],\n",
        "                     synapse=tau_m,\n",
        "                     transform=((eps_0 * tau_m) / (tau_m - tau_s)))\n",
        "    nengo.Connection(place.neurons,\n",
        "                     critic_outer[:n_place],\n",
        "                     synapse=tau_s,\n",
        "                     transform=-((eps_0 * tau_s) / (tau_m - tau_s)))\n",
        "    # Pass raw critic spikes into critic_outer\n",
        "    nengo.Connection(critic.neurons, critic_outer[n_place:], synapse=None)\n",
        "\n",
        "    critic_learn = nengo.Node(master.critic,\n",
        "                              size_in=n_place * n_critic + n_place + 1,\n",
        "                              size_out=n_critic)\n",
        "    # convolve critic_outer output with k / tau_r\n",
        "    nengo.Connection(critic_outer,\n",
        "                     critic_learn[:n_place * n_critic],\n",
        "                     synapse=tau_k,\n",
        "                     transform=tau_k/((tau_k - v_k)*tau_r))\n",
        "    nengo.Connection(critic_outer,\n",
        "                     critic_learn[:n_place * n_critic],\n",
        "                     synapse=v_k,\n",
        "                     transform=(-v_k)/((tau_k - v_k)*tau_r))\n",
        "    # Pass convolved place spikes with epsilon into critic_learn\n",
        "    nengo.Connection(place.neurons,\n",
        "                     critic_learn[n_place * n_critic:-1],\n",
        "                     synapse=tau_m,\n",
        "                     transform=((eps_0 * tau_m) / (tau_m - tau_s)))\n",
        "    nengo.Connection(place.neurons,\n",
        "                     critic_learn[n_place * n_critic:-1],\n",
        "                     synapse=tau_s,\n",
        "                     transform=-((eps_0 * tau_s) / (tau_m - tau_s)))\n",
        "\n",
        "    # connect critic_learn to critic neurons\n",
        "    nengo.Connection(critic_learn, critic.neurons, synapse=None)\n",
        "\n",
        "    td_error_node = nengo.Node(output=master.calc_td_error, size_in=n_critic)\n",
        "    # convolve critic spikes with (K' - K/tau_r)\n",
        "    nengo.Connection(critic.neurons,\n",
        "                     td_error_node,\n",
        "                     synapse=nengo.Lowpass(tau=tau_k),\n",
        "                     transform=((-tau_r - tau_k)/(tau_r*(tau_k-v_k))))\n",
        "    nengo.Connection(critic.neurons,\n",
        "                     td_error_node,\n",
        "                     synapse=nengo.Lowpass(tau=v_k),\n",
        "                     transform=((tau_r + v_k)/(tau_r*(tau_k-v_k))))\n",
        "\n",
        "    nengo.Connection(td_error_node, actor_learn[-1], synapse=None)\n",
        "    nengo.Connection(td_error_node, critic_learn[-1], synapse=None)\n",
        "\n",
        "    value_node = nengo.Node(output=master.calc_value, size_in=n_critic)\n",
        "    nengo.Connection(critic.neurons,\n",
        "                     value_node,\n",
        "                     synapse=tau_k,\n",
        "                     transform=tau_k/(tau_k - v_k))\n",
        "    nengo.Connection(critic.neurons,\n",
        "                     value_node,\n",
        "                     synapse=v_k,\n",
        "                     transform=(-v_k)/(tau_k - v_k))\n",
        "\n",
        "\n",
        "#     err_probe = nengo.Probe(td_error_node, synapse=None, sample_every=dt*stepSize)\n",
        "    action_probe = nengo.Probe(action_selection_node, synapse=None, sample_every=dt*stepSize)\n",
        "    value_probe = nengo.Probe(value_node, synapse=None, sample_every=dt*stepSize)\n",
        "#     place_probe = nengo.Probe(place, synapse=None, sample_every=dt*stepSize)\n",
        "#     state_probe = nengo.Probe(state_node, synapse=None, sample_every=dt*stepSize)\n",
        "\n",
        "#     critic_spikes = nengo.Probe(critic.neurons)\n",
        "#     actor_spikes = nengo.Probe(actor.neurons)\n",
        "#     place_spikes = nengo.Probe(place.neurons)\n",
        "\n",
        "sim = nengo.Simulator(model, dt=dt, optimize=True)\n",
        "sim.run(800)\n",
        "\n",
        "# master.env.close()"
      ]
    },
    {
      "cell_type": "code",
      "execution_count": null,
      "metadata": {
        "id": "KdwKsgSWSU-e"
      },
      "outputs": [],
      "source": [
        "# sim.run(300)"
      ]
    },
    {
      "cell_type": "code",
      "source": [
        "np.random.normal(loc=0.5, scale=0.1, size=(n_actor, n_place))"
      ],
      "metadata": {
        "colab": {
          "base_uri": "https://localhost:8080/"
        },
        "id": "MNX87nRBgiOw",
        "outputId": "17d934a7-db51-4c76-a445-dd82d0998369"
      },
      "execution_count": null,
      "outputs": [
        {
          "output_type": "execute_result",
          "data": {
            "text/plain": [
              "array([[0.6609307 , 0.57568498, 0.63928929, ..., 0.38858115, 0.57998493,\n",
              "        0.47457426],\n",
              "       [0.69736789, 0.53385294, 0.39807744, ..., 0.5506321 , 0.3832901 ,\n",
              "        0.46524618],\n",
              "       [0.56664526, 0.43024396, 0.63797485, ..., 0.70947236, 0.29006887,\n",
              "        0.39182933],\n",
              "       ...,\n",
              "       [0.45081964, 0.48919382, 0.60291857, ..., 0.58038613, 0.39736494,\n",
              "        0.39807119],\n",
              "       [0.61968649, 0.60425398, 0.50469618, ..., 0.45095021, 0.63855073,\n",
              "        0.51072964],\n",
              "       [0.54204031, 0.56179316, 0.47420118, ..., 0.54321812, 0.52117619,\n",
              "        0.51989399]])"
            ]
          },
          "metadata": {},
          "execution_count": 275
        }
      ]
    },
    {
      "cell_type": "code",
      "source": [
        "print(master.place_actor_weights)"
      ],
      "metadata": {
        "colab": {
          "base_uri": "https://localhost:8080/"
        },
        "id": "VBo-c6BhgAi7",
        "outputId": "cad7d52e-bc60-42e8-c0d2-d016f7054c16"
      },
      "execution_count": null,
      "outputs": [
        {
          "output_type": "stream",
          "name": "stdout",
          "text": [
            "[[6.36988312e-001 1.48251610e-049 6.95833170e-044 ... 4.32102113e-044\n",
            "  2.50628303e-044 1.14466761e-048]\n",
            " [5.74967312e-001 3.11698806e-009 8.22934583e-009 ... 2.63869450e-009\n",
            "  3.89019789e-009 2.09204142e-009]\n",
            " [2.60337061e-001 3.18712222e-007 3.93690646e-007 ... 1.73381332e-007\n",
            "  8.01325102e-008 2.46137174e-007]\n",
            " ...\n",
            " [6.38276527e-115 2.78664522e-116 1.01450295e-114 ... 5.24359746e-115\n",
            "  9.93425988e-115 2.74497165e-116]\n",
            " [3.53871349e-115 2.78646035e-116 2.37606443e-115 ... 1.04680386e-115\n",
            "  4.41192176e-115 2.74465851e-116]\n",
            " [4.53235593e-117 2.95832860e-002 4.30607708e-116 ... 2.35803867e-116\n",
            "  1.98115014e-116 3.85897280e-117]]\n"
          ]
        }
      ]
    },
    {
      "cell_type": "code",
      "source": [
        "print(np.max(master.place_actor_weights))"
      ],
      "metadata": {
        "colab": {
          "base_uri": "https://localhost:8080/"
        },
        "id": "-F4xxBQ9_NLe",
        "outputId": "809b4f18-3bb7-472c-afa0-6861e7ef9cb9"
      },
      "execution_count": null,
      "outputs": [
        {
          "output_type": "stream",
          "name": "stdout",
          "text": [
            "0.7799707649086918\n"
          ]
        }
      ]
    },
    {
      "cell_type": "code",
      "source": [
        "saved_place_actor_weights = np.load('cache/place_actor_weights.npy')\n",
        "saved_place_actor_weights"
      ],
      "metadata": {
        "colab": {
          "base_uri": "https://localhost:8080/"
        },
        "id": "pYVDm-FIgUfz",
        "outputId": "dcdcc084-43d0-4386-aa2a-9787d705ad85"
      },
      "execution_count": null,
      "outputs": [
        {
          "output_type": "execute_result",
          "data": {
            "text/plain": [
              "array([[1.41960302e-03, 3.17308272e-09, 7.08297679e-06, ...,\n",
              "        2.83621845e-06, 1.87378275e-11, 5.63814942e-06],\n",
              "       [1.20605769e-05, 4.28509474e-07, 1.51062959e-06, ...,\n",
              "        2.96930219e-06, 3.36896958e-09, 2.93013066e-06],\n",
              "       [2.93945768e-04, 7.36224783e-08, 4.37380400e-03, ...,\n",
              "        2.29110458e-03, 2.43065970e-09, 3.24486811e-03],\n",
              "       ...,\n",
              "       [2.11113712e-02, 3.53665040e-03, 6.34289062e-03, ...,\n",
              "        4.28313373e-10, 6.12635655e-01, 8.41148575e-10],\n",
              "       [3.11623409e-03, 2.72219442e-02, 2.68757529e-03, ...,\n",
              "        1.96063785e-04, 3.27062137e-01, 1.55947146e-03],\n",
              "       [2.60444416e-01, 5.09806525e-01, 9.77139995e-04, ...,\n",
              "        2.26988064e-01, 6.02225516e-01, 4.96277262e-04]])"
            ]
          },
          "metadata": {},
          "execution_count": 277
        }
      ]
    },
    {
      "cell_type": "code",
      "source": [
        "print(np.nonzero(master.place_actor_weights))"
      ],
      "metadata": {
        "colab": {
          "base_uri": "https://localhost:8080/"
        },
        "id": "9JjKbGdggtgp",
        "outputId": "7d5f7c99-9d08-48cc-dc15-a3b4daab658e"
      },
      "execution_count": null,
      "outputs": [
        {
          "output_type": "stream",
          "name": "stdout",
          "text": [
            "(array([ 0,  0,  0, ..., 39, 39, 39]), array([ 0,  1,  2, ..., 97, 98, 99]))\n"
          ]
        }
      ]
    },
    {
      "cell_type": "code",
      "source": [
        "master.place_actor_weights.shape"
      ],
      "metadata": {
        "colab": {
          "base_uri": "https://localhost:8080/"
        },
        "id": "cagc41rSgg2X",
        "outputId": "d28aa9b1-53b2-4d7a-ad7e-5c23b3b69b5d"
      },
      "execution_count": null,
      "outputs": [
        {
          "output_type": "execute_result",
          "data": {
            "text/plain": [
              "(40, 100)"
            ]
          },
          "metadata": {},
          "execution_count": 279
        }
      ]
    },
    {
      "cell_type": "code",
      "source": [
        "print()"
      ],
      "metadata": {
        "colab": {
          "base_uri": "https://localhost:8080/"
        },
        "id": "n_KyMLBhgQjL",
        "outputId": "bab0c76c-ae51-4dff-a3ff-92134eec4542"
      },
      "execution_count": null,
      "outputs": [
        {
          "output_type": "stream",
          "name": "stdout",
          "text": [
            "\n"
          ]
        }
      ]
    },
    {
      "cell_type": "code",
      "execution_count": null,
      "metadata": {
        "id": "ZuJbJrMxSU-f"
      },
      "outputs": [],
      "source": [
        "# np.save('cache/place_actor_weights', master.place_actor_weights)\n",
        "# np.save('cache/place_critic_weights', master.place_critic_weights)\n",
        "# np.save('cache/reward_history', master.reward_history)\n",
        "# np.save('cache/values', sim.data[value_probe])\n",
        "# np.save('cache/actions', sim.data[action_probe])"
      ]
    },
    {
      "cell_type": "code",
      "execution_count": null,
      "metadata": {
        "id": "2x98dpVLSU-f",
        "colab": {
          "base_uri": "https://localhost:8080/"
        },
        "outputId": "79bb9ade-0e4a-4afe-b041-9a80f7b291b4"
      },
      "outputs": [
        {
          "output_type": "stream",
          "name": "stdout",
          "text": [
            "\u001b[0m\u001b[01;34mcache\u001b[0m/  \u001b[01;34msample_data\u001b[0m/\n"
          ]
        }
      ],
      "source": [
        "ls"
      ]
    },
    {
      "cell_type": "markdown",
      "metadata": {
        "id": "WECbiQ95SU-g"
      },
      "source": [
        "# Visualization and debugging"
      ]
    },
    {
      "cell_type": "code",
      "execution_count": null,
      "metadata": {
        "colab": {
          "base_uri": "https://localhost:8080/"
        },
        "id": "a0A7rWPeSU-j",
        "outputId": "27dd5b94-0832-42d7-9ad9-76738ffe1335"
      },
      "outputs": [
        {
          "output_type": "execute_result",
          "data": {
            "text/plain": [
              "800000"
            ]
          },
          "metadata": {},
          "execution_count": 283
        }
      ],
      "source": [
        "len(sim.data[value_probe])"
      ]
    },
    {
      "cell_type": "code",
      "execution_count": null,
      "metadata": {
        "id": "SwJiCpvrSU-k"
      },
      "outputs": [],
      "source": [
        "# rasterplot(sim.trange()[:10], sim.data[place_spikes][:10])"
      ]
    },
    {
      "cell_type": "code",
      "execution_count": null,
      "metadata": {
        "id": "cKF7-5dCSU-l"
      },
      "outputs": [],
      "source": [
        "# rasterplot(sim.trange()[:], sim.data[actor_spikes][:])"
      ]
    },
    {
      "cell_type": "code",
      "execution_count": null,
      "metadata": {
        "scrolled": true,
        "id": "etg70Xx3SU-l"
      },
      "outputs": [],
      "source": [
        "# rasterplot(sim.trange()[:10], sim.data[critic_spikes][:10])"
      ]
    },
    {
      "cell_type": "code",
      "execution_count": null,
      "metadata": {
        "scrolled": false,
        "id": "3bCyze9FSU-m"
      },
      "outputs": [],
      "source": [
        "# plt.plot(sim.data[err_probe], label='td_error')\n",
        "# plt.legend()"
      ]
    },
    {
      "cell_type": "code",
      "execution_count": null,
      "metadata": {
        "scrolled": true,
        "id": "LFVbneqpSU-n"
      },
      "outputs": [],
      "source": [
        "# plt.plot(sim.data[value_probe], label='value')\n",
        "# plt.title('Value')\n",
        "# plt.ylabel('V(x(t))')\n",
        "# plt.xlabel('t')\n",
        "# plt.legend()"
      ]
    },
    {
      "cell_type": "code",
      "execution_count": null,
      "metadata": {
        "scrolled": true,
        "colab": {
          "base_uri": "https://localhost:8080/",
          "height": 427
        },
        "id": "8jxOER1PSU-n",
        "outputId": "9e37cf53-5134-4e15-a769-dad1ab7f740c"
      },
      "outputs": [
        {
          "output_type": "execute_result",
          "data": {
            "text/plain": [
              "Text(0, 0.5, 'a(x(t))')"
            ]
          },
          "metadata": {},
          "execution_count": 289
        },
        {
          "output_type": "display_data",
          "data": {
            "text/plain": [
              "<Figure size 1200x400 with 2 Axes>"
            ],
            "image/png": "[encoded data removed]"
          },
          "metadata": {}
        }
      ],
      "source": [
        "fig, ax = plt.subplots(1,2, figsize=(12,4))\n",
        "\n",
        "ax[0].plot(sim.data[value_probe], label='value')\n",
        "ax[0].set_title('Value')\n",
        "ax[0].set_ylabel('V(x(t))')\n",
        "ax[0].set_xlabel('t')\n",
        "\n",
        "ax[1].plot(sim.data[action_probe])\n",
        "ax[1].set_title(f'Action')\n",
        "ax[1].set_xlabel('t')\n",
        "ax[1].set_ylabel('a(x(t))')\n",
        "\n",
        "# plt.plot(sim.data[action_probe], label='action')\n",
        "# plt.legend()"
      ]
    },
    {
      "cell_type": "code",
      "execution_count": null,
      "metadata": {
        "scrolled": true,
        "id": "_NckSMpFSU-n"
      },
      "outputs": [],
      "source": [
        "# end = 1000\n",
        "# plt.plot(sim.data[place_probe][:end], label='place')\n",
        "# plt.plot(sim.data[state_probe][:end], label='state')\n",
        "# plt.legend()"
      ]
    },
    {
      "cell_type": "code",
      "execution_count": null,
      "metadata": {
        "scrolled": false,
        "id": "zRnwA_gbSU-o"
      },
      "outputs": [],
      "source": [
        "# plt.plot(master.reward_history)\n",
        "# plt.xlabel('Trial')\n",
        "# plt.title('Total reward per trial')"
      ]
    },
    {
      "cell_type": "code",
      "execution_count": null,
      "metadata": {
        "scrolled": true,
        "colab": {
          "base_uri": "https://localhost:8080/",
          "height": 427
        },
        "id": "7fAO1UCGSU-o",
        "outputId": "19fba591-8e65-44ad-ac9e-e65c9eaf4869"
      },
      "outputs": [
        {
          "output_type": "execute_result",
          "data": {
            "text/plain": [
              "Text(0.5, 0, 'Trial')"
            ]
          },
          "metadata": {},
          "execution_count": 295
        },
        {
          "output_type": "display_data",
          "data": {
            "text/plain": [
              "<Figure size 1200x400 with 2 Axes>"
            ],
            "image/png": "[encoded data removed]"
          },
          "metadata": {}
        }
      ],
      "source": [
        "fig, ax = plt.subplots(1,2, figsize=(12,4))\n",
        "\n",
        "ax[0].plot(master.reward_history)\n",
        "ax[0].set_xlabel('Trial')\n",
        "ax[0].set_title('Total reward per trial')\n",
        "\n",
        "h = 100\n",
        "ax[1].plot(np.convolve(master.reward_history, np.ones(h)/h, 'valid'))\n",
        "ax[1].set_title(f'{h}-trial moving average of rewards')\n",
        "ax[1].set_xlabel('Trial')"
      ]
    },
    {
      "cell_type": "code",
      "execution_count": null,
      "metadata": {
        "id": "vg_JbThdSU-o"
      },
      "outputs": [],
      "source": []
    }
  ],
  "metadata": {
    "kernelspec": {
      "display_name": "Python 3",
      "language": "python",
      "name": "python3"
    },
    "language_info": {
      "codemirror_mode": {
        "name": "ipython",
        "version": 3
      },
      "file_extension": ".py",
      "mimetype": "text/x-python",
      "name": "python",
      "nbconvert_exporter": "python",
      "pygments_lexer": "ipython3",
      "version": "3.6.9"
    },
    "colab": {
      "provenance": []
    }
  },
  "nbformat": 4,
  "nbformat_minor": 0
}